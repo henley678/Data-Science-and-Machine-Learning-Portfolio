{
 "cells": [
  {
   "cell_type": "code",
   "execution_count": 58,
   "metadata": {},
   "outputs": [],
   "source": [
    "# Obtain the unemployment data for the following states: Indiana, Mississippi, and NewJersey \n",
    "## Four columns from the original data: series id, year, month, and value  \n",
    "## Add a column called month_year which holds a string that has the month year combination \n",
    "## Data from 2010 till 2015"
   ]
  },
  {
   "cell_type": "code",
   "execution_count": null,
   "metadata": {},
   "outputs": [],
   "source": [
    "states = ['Indiana', 'Mississippi', 'NewJersey']\n",
    "code_file = open('/home/jovyan/Desktop/hw2/BLS_state_codes.csv', 'r')\n",
    "code = code_file.read()\n",
    "code_file.close()\n",
    "\n",
    "code = code.replace(',','.')\n",
    "code2 = code.splitlines(0)"
   ]
  },
  {
   "cell_type": "code",
   "execution_count": 48,
   "metadata": {},
   "outputs": [
    {
     "data": {
      "text/plain": [
       "['21.Indiana', '31.Mississippi', '37.NewJersey']"
      ]
     },
     "execution_count": 48,
     "metadata": {},
     "output_type": "execute_result"
    }
   ],
   "source": [
    "states = ['Indiana', 'Mississippi', 'NewJersey']\n",
    "state_with_code = []\n",
    "for item in code2:\n",
    "    #print(item)\n",
    "    tmp = item[item.find('.')+1 :]\n",
    "    if tmp in states:\n",
    "        state_with_code.append(item)\n",
    "state_with_code"
   ]
  },
  {
   "cell_type": "code",
   "execution_count": 170,
   "metadata": {},
   "outputs": [
    {
     "data": {
      "text/plain": [
       "['https://download.bls.gov/pub/time.series/la/la.data.21.Indiana',\n",
       " 'https://download.bls.gov/pub/time.series/la/la.data.31.Mississippi',\n",
       " 'https://download.bls.gov/pub/time.series/la/la.data.37.NewJersey']"
      ]
     },
     "execution_count": 170,
     "metadata": {},
     "output_type": "execute_result"
    }
   ],
   "source": [
    "urls = []\n",
    "for state in state_with_code:\n",
    "    urls.append('https://download.bls.gov/pub/time.series/la/la.data.' + state)\n",
    "urls"
   ]
  },
  {
   "cell_type": "code",
   "execution_count": 165,
   "metadata": {},
   "outputs": [],
   "source": [
    "import urllib.request"
   ]
  },
  {
   "cell_type": "code",
   "execution_count": 196,
   "metadata": {},
   "outputs": [],
   "source": [
    "for counter in range(0, len(urls)):\n",
    "    html = urllib.request.urlopen(urls[counter]).read().decode(\"utf-8\")\n",
    "    html2 = html[0:].splitlines(0)\n",
    "    \n",
    "    output_file = open(states[counter] + '.txt','w')\n",
    "    new_line = ''\n",
    "    for item in html2:\n",
    "        item_list = item.split('\\t')\n",
    "        tmp = item_list[2] + '_' + item_list[1]\n",
    "        item_list[4] = tmp\n",
    "        if item_list[2][0] == 'p':\n",
    "            new_line = item_list[0] + '\\t' + item_list[1] + '\\t' + item_list[2] + '\\t' + item_list[3] + '\\t' + 'month_year' + '\\n'\n",
    "            output_file.write(new_line)\n",
    "        else:\n",
    "            if item_list[1] == '2010' or item_list[1] == '2011' or item_list[1] == '2012' or item_list[1] == '2013' or item_list[1] == '2014' or item_list[1] == '2015':\n",
    "                new_line = '\\t'.join(item_list[0:4]) + '\\n'\n",
    "                new_line = item_list[0] + '\\t' + item_list[1] + '\\t' + item_list[2] + '\\t' + item_list[3] + '\\t' + item_list[4][1:] + '\\n'\n",
    "                output_file.write(new_line)\n",
    "\n",
    "    output_file.close()"
   ]
  },
  {
   "cell_type": "code",
   "execution_count": null,
   "metadata": {},
   "outputs": [],
   "source": []
  },
  {
   "cell_type": "code",
   "execution_count": null,
   "metadata": {},
   "outputs": [],
   "source": [
    "# Obtain the unemployment data for the following states: New York, Mississippi, and New Jersey\n",
    "## Data from 2010-2015\n",
    "## Data that correspond to the following months: June (06)"
   ]
  },
  {
   "cell_type": "code",
   "execution_count": null,
   "metadata": {},
   "outputs": [],
   "source": [
    "states = ['NewYork', 'Mississippi', 'NewJersey']\n",
    "code_file = open('/home/jovyan/Desktop/hw2/BLS_state_codes.csv', 'r')\n",
    "code = code_file.read()\n",
    "code_file.close()\n",
    "\n",
    "code = code.replace(',','.')\n",
    "code2 = code.splitlines(0)"
   ]
  },
  {
   "cell_type": "code",
   "execution_count": 197,
   "metadata": {},
   "outputs": [
    {
     "data": {
      "text/plain": [
       "'Arkansas'"
      ]
     },
     "execution_count": 197,
     "metadata": {},
     "output_type": "execute_result"
    }
   ],
   "source": [
    "tmp = code2[0]\n",
    "tmp[tmp.find('.')+1 :]"
   ]
  },
  {
   "cell_type": "code",
   "execution_count": 198,
   "metadata": {},
   "outputs": [
    {
     "data": {
      "text/plain": [
       "['31.Mississippi', '37.NewJersey', '39.NewYork']"
      ]
     },
     "execution_count": 198,
     "metadata": {},
     "output_type": "execute_result"
    }
   ],
   "source": [
    "states = ['NewYork', 'Mississippi', 'NewJersey']\n",
    "state_with_code = []\n",
    "for item in code2:\n",
    "    #print(item)\n",
    "    tmp = item[item.find('.')+1 :]\n",
    "    if tmp in states:\n",
    "        state_with_code.append(item)\n",
    "state_with_code"
   ]
  },
  {
   "cell_type": "code",
   "execution_count": 199,
   "metadata": {},
   "outputs": [
    {
     "data": {
      "text/plain": [
       "['https://download.bls.gov/pub/time.series/la/la.data.31.Mississippi',\n",
       " 'https://download.bls.gov/pub/time.series/la/la.data.37.NewJersey',\n",
       " 'https://download.bls.gov/pub/time.series/la/la.data.39.NewYork']"
      ]
     },
     "execution_count": 199,
     "metadata": {},
     "output_type": "execute_result"
    }
   ],
   "source": [
    "urls = []\n",
    "for state in state_with_code:\n",
    "    urls.append('https://download.bls.gov/pub/time.series/la/la.data.' + state)\n",
    "urls"
   ]
  },
  {
   "cell_type": "code",
   "execution_count": null,
   "metadata": {},
   "outputs": [],
   "source": [
    "import urllib.request"
   ]
  },
  {
   "cell_type": "code",
   "execution_count": 205,
   "metadata": {},
   "outputs": [],
   "source": [
    "output_file = open('Q2.txt','w')\n",
    "\n",
    "for counter in range(0, len(urls)):\n",
    "    html = urllib.request.urlopen(urls[counter]).read().decode(\"utf-8\")\n",
    "    html2 = html[0:].splitlines(0)\n",
    "    \n",
    "    new_line = ''\n",
    "    for item in html2:\n",
    "        item_list = item.split('\\t')\n",
    "        if item_list[2][0] == 'p':\n",
    "            new_line = item_list[0] + '\\t' + item_list[1] + '\\t' + item_list[2] + '\\t' + item_list[3] + '\\t' + '\\n'\n",
    "            output_file.write(new_line)\n",
    "        else:\n",
    "            if item_list[1] == '2010' or item_list[1] == '2011' or item_list[1] == '2012' or item_list[1] == '2013' or item_list[1] == '2014' or item_list[1] == '2015':\n",
    "                if item_list[2] == 'M06':\n",
    "                    new_line = '\\t'.join(item_list[0:4]) + '\\n'\n",
    "                    new_line = item_list[0] + '\\t' + item_list[1] + '\\t' + item_list[2] + '\\t' + item_list[3] + '\\t' + item_list[4][1:] + '\\n'\n",
    "                    output_file.write(new_line)\n",
    "\n",
    "output_file.close()"
   ]
  },
  {
   "cell_type": "code",
   "execution_count": null,
   "metadata": {},
   "outputs": [],
   "source": []
  }
 ],
 "metadata": {
  "kernelspec": {
   "display_name": "Python 3",
   "language": "python",
   "name": "python3"
  },
  "language_info": {
   "codemirror_mode": {
    "name": "ipython",
    "version": 3
   },
   "file_extension": ".py",
   "mimetype": "text/x-python",
   "name": "python",
   "nbconvert_exporter": "python",
   "pygments_lexer": "ipython3",
   "version": "3.6.9"
  }
 },
 "nbformat": 4,
 "nbformat_minor": 4
}
