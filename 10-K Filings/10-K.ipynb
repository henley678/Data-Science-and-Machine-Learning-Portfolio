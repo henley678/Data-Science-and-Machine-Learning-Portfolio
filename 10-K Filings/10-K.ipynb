{
 "cells": [
  {
   "cell_type": "code",
   "execution_count": 34,
   "metadata": {},
   "outputs": [],
   "source": [
    "import pandas as pd\n",
    "import urllib\n",
    "import urllib.request\n",
    "import bs4 as bs\n",
    "from bs4 import SoupStrainer\n",
    "import codecs\n",
    "import time\n",
    "import random"
   ]
  },
  {
   "cell_type": "code",
   "execution_count": 83,
   "metadata": {},
   "outputs": [],
   "source": [
    "input_file = open('/home/jovyan/Desktop/Dropped_Companies.csv', 'r')\n",
    "\n",
    "rows = input_file.readlines()\n",
    "input_file.close()"
   ]
  },
  {
   "cell_type": "code",
   "execution_count": 84,
   "metadata": {},
   "outputs": [
    {
     "data": {
      "text/plain": [
       "[',Unnamed: 0,Fund Name,Date,Name of Stock,Type,Value,Shares\\n',\n",
       " '0,885.0,ADVANCE_CAPITAL_I_INC,2015-08-03,FMC CORP,COMMON STOCK,815.0,15500.0\\n',\n",
       " '1,1826.0,ADVANCE_CAPITAL_I_INC,2014-02-06,CORRECTIONS CORP,COMMON STOCK,673.0,21000.0\\n',\n",
       " '2,1857.0,ADVANCE_CAPITAL_I_INC,2014-02-06,FIRST NIAGARA FINANC,COMMON STOCK,662.0,62300.0\\n',\n",
       " '3,1375.0,ADVANCE_CAPITAL_I_INC,2014-11-07,GENPACT LTD,COMMON STOCK,1461.0,89500.0\\n',\n",
       " '5,1671.0,ADVANCE_CAPITAL_I_INC,2014-05-15,INGREDION INC,COMMON STOCK,1110.0,16300.0\\n',\n",
       " '7,1857.0,ADVANCE_CAPITAL_I_INC,2012-02-02,UNITED TECHNOLOGIES CORP,COMMONSTOCK,621.0,8500.0\\n',\n",
       " '8,1512.0,ADVANCE_CAPITAL_I_INC,2014-08-05,HERBALIFE LTD,COMMON STOCK,1555.0,24100.0\\n',\n",
       " '17,887.0,ADVANCE_CAPITAL_I_INC,2015-08-03,FOREST CITY ENTERPRI,COMMON STOCK,557.0,25200.0\\n',\n",
       " '18,556.0,ADVANCE_CAPITAL_I_INC,2016-02-08,L-3 COMMUNICATIONS,COMMON STOCK,562.0,4700.0\\n']"
      ]
     },
     "execution_count": 84,
     "metadata": {},
     "output_type": "execute_result"
    }
   ],
   "source": [
    "rows[0:10]"
   ]
  },
  {
   "cell_type": "code",
   "execution_count": 85,
   "metadata": {},
   "outputs": [],
   "source": [
    "from datetime import datetime\n",
    "\n",
    "text_rownumber = []\n",
    "text_unnamed = []\n",
    "text_fundname = []\n",
    "text_date = []\n",
    "text_nameofstock = []\n",
    "text_type = []\n",
    "text_value = []\n",
    "text_shares = []\n",
    "text_link = []\n",
    "\n",
    "for i in range(1, len(rows)):\n",
    "    columns = rows[i].split(',')\n",
    "    text_rownumber.append(columns[0])\n",
    "    text_unnamed.append(columns[1])\n",
    "    text_fundname.append(columns[2])\n",
    "    text_date.append(columns[3])\n",
    "    text_nameofstock.append(columns[4])\n",
    "    text_type.append(columns[5])\n",
    "    text_value.append(columns[6])\n",
    "    text_shares.append(columns[7])\n",
    "    \n",
    "for j in range(0,len(text_nameofstock)):\n",
    "    text_link.append('https://www.sec.gov/cgi-bin/browse-edgar?action=getcompany&company=' + text_nameofstock[j].replace(' ', '+')  + '&type=10-K&dateb=&owner=exclude&count=100')"
   ]
  },
  {
   "cell_type": "code",
   "execution_count": 86,
   "metadata": {},
   "outputs": [
    {
     "name": "stdout",
     "output_type": "stream",
     "text": [
      "['FMC CORP', 'CORRECTIONS CORP', 'FIRST NIAGARA FINANC', 'GENPACT LTD', 'INGREDION INC', 'UNITED TECHNOLOGIES CORP', 'HERBALIFE LTD', 'FOREST CITY ENTERPRI', 'L-3 COMMUNICATIONS', 'ROVI CORP']\n"
     ]
    }
   ],
   "source": [
    "print(text_nameofstock[0:10])"
   ]
  },
  {
   "cell_type": "code",
   "execution_count": 87,
   "metadata": {},
   "outputs": [
    {
     "name": "stdout",
     "output_type": "stream",
     "text": [
      "['https://www.sec.gov/cgi-bin/browse-edgar?action=getcompany&company=FMC+CORP&type=10-K&dateb=&owner=exclude&count=100', 'https://www.sec.gov/cgi-bin/browse-edgar?action=getcompany&company=CORRECTIONS+CORP&type=10-K&dateb=&owner=exclude&count=100', 'https://www.sec.gov/cgi-bin/browse-edgar?action=getcompany&company=FIRST+NIAGARA+FINANC&type=10-K&dateb=&owner=exclude&count=100', 'https://www.sec.gov/cgi-bin/browse-edgar?action=getcompany&company=GENPACT+LTD&type=10-K&dateb=&owner=exclude&count=100', 'https://www.sec.gov/cgi-bin/browse-edgar?action=getcompany&company=INGREDION+INC&type=10-K&dateb=&owner=exclude&count=100', 'https://www.sec.gov/cgi-bin/browse-edgar?action=getcompany&company=UNITED+TECHNOLOGIES+CORP&type=10-K&dateb=&owner=exclude&count=100', 'https://www.sec.gov/cgi-bin/browse-edgar?action=getcompany&company=HERBALIFE+LTD&type=10-K&dateb=&owner=exclude&count=100', 'https://www.sec.gov/cgi-bin/browse-edgar?action=getcompany&company=FOREST+CITY+ENTERPRI&type=10-K&dateb=&owner=exclude&count=100', 'https://www.sec.gov/cgi-bin/browse-edgar?action=getcompany&company=L-3+COMMUNICATIONS&type=10-K&dateb=&owner=exclude&count=100', 'https://www.sec.gov/cgi-bin/browse-edgar?action=getcompany&company=ROVI+CORP&type=10-K&dateb=&owner=exclude&count=100']\n"
     ]
    }
   ],
   "source": [
    "print(text_link[0:10])"
   ]
  },
  {
   "cell_type": "code",
   "execution_count": 88,
   "metadata": {},
   "outputs": [
    {
     "name": "stdout",
     "output_type": "stream",
     "text": [
      "<!DOCTYPE HTML PUBLIC \"-//W3C//DTD HTML 4.01 Transitional//EN\" \"http://www.w3.org/TR/html4/loose.dtd\">\n",
      "<html lang=\"ENG\">\n",
      "<head>\n",
      "<title>EDGAR Search Results</title>\n",
      "<link href=\"/include/interactive.css\n"
     ]
    }
   ],
   "source": [
    "link = text_link[0]\n",
    "url = link\n",
    "html = urllib.request.urlopen(url).read().decode('utf-8') #loading each search page\n",
    "print(html[0:200])"
   ]
  },
  {
   "cell_type": "code",
   "execution_count": 89,
   "metadata": {},
   "outputs": [],
   "source": [
    "soup = bs.BeautifulSoup(html, 'html.parser')"
   ]
  },
  {
   "cell_type": "code",
   "execution_count": 90,
   "metadata": {},
   "outputs": [],
   "source": [
    "infotable = soup.find_all(\"table\", summary = \"Results\")"
   ]
  },
  {
   "cell_type": "code",
   "execution_count": 91,
   "metadata": {},
   "outputs": [
    {
     "data": {
      "text/plain": [
       "'10-K'"
      ]
     },
     "execution_count": 91,
     "metadata": {},
     "output_type": "execute_result"
    }
   ],
   "source": [
    "infotable[0].find_all('tr')[1].find_all('td')[0].getText()"
   ]
  },
  {
   "cell_type": "code",
   "execution_count": 92,
   "metadata": {},
   "outputs": [
    {
     "data": {
      "text/plain": [
       "'2019-02-28'"
      ]
     },
     "execution_count": 92,
     "metadata": {},
     "output_type": "execute_result"
    }
   ],
   "source": [
    "infotable[0].find_all('tr')[1].find_all('td')[3].getText()"
   ]
  },
  {
   "cell_type": "code",
   "execution_count": 93,
   "metadata": {},
   "outputs": [
    {
     "data": {
      "text/plain": [
       "'/Archives/edgar/data/37785/000003778519000039/0000037785-19-000039-index.htm'"
      ]
     },
     "execution_count": 93,
     "metadata": {},
     "output_type": "execute_result"
    }
   ],
   "source": [
    "infotable[0].find_all('tr')[1].find_all('td')[1].find('a').get('href')"
   ]
  },
  {
   "cell_type": "code",
   "execution_count": 94,
   "metadata": {},
   "outputs": [],
   "source": [
    "weblink = []\n",
    "filing_type = []\n",
    "company_name = []\n",
    "date = []\n",
    "\n",
    "for row in infotable[0].find_all('tr')[1:]:\n",
    "    columns = row.find_all('td')\n",
    "    filing_type.append(columns[0].getText())\n",
    "    date.append(columns[3].getText())\n",
    "    weblink.append('https://www.sec.gov' + columns[1].find('a').get('href'))\n",
    "company_name.extend([text_nameofstock[0]] * len(filing_type))\n"
   ]
  },
  {
   "cell_type": "code",
   "execution_count": 95,
   "metadata": {},
   "outputs": [
    {
     "name": "stdout",
     "output_type": "stream",
     "text": [
      "['10-K', '10-K', '10-K', '10-K', '10-K', '10-K', '10-K', '10-K', '10-K', '10-K', '10-K', '10-K/A', '10-K', '10-K/A', '10-K', '10-K/A', '10-K', '10-K', '10-K/A', '10-K', '10-K', '10-K', '10-K405', '10-K405', '10-K', '10-K', '10-K', '10-K', '10-K405', '10-K/A', '10-K']\n",
      "['2019-02-28', '2018-02-28', '2017-02-28', '2016-02-26', '2015-02-27', '2014-02-18', '2013-02-19', '2012-02-21', '2011-02-22', '2010-02-22', '2009-02-23', '2008-03-18', '2008-02-25', '2007-03-28', '2007-02-26', '2006-03-30', '2006-03-08', '2005-03-14', '2004-03-30', '2004-03-11', '2003-03-11', '2002-03-11', '2001-03-29', '2000-03-30', '1999-03-25', '1998-03-18', '1997-03-26', '1996-03-15', '1995-03-29', '1994-04-05', '1994-03-31']\n",
      "['https://www.sec.gov/Archives/edgar/data/37785/000003778519000039/0000037785-19-000039-index.htm', 'https://www.sec.gov/Archives/edgar/data/37785/000003778518000019/0000037785-18-000019-index.htm', 'https://www.sec.gov/Archives/edgar/data/37785/000003778517000011/0000037785-17-000011-index.htm', 'https://www.sec.gov/Archives/edgar/data/37785/000003778516000081/0000037785-16-000081-index.htm', 'https://www.sec.gov/Archives/edgar/data/37785/000003778515000008/0000037785-15-000008-index.htm', 'https://www.sec.gov/Archives/edgar/data/37785/000003778514000006/0000037785-14-000006-index.htm', 'https://www.sec.gov/Archives/edgar/data/37785/000003778513000008/0000037785-13-000008-index.htm', 'https://www.sec.gov/Archives/edgar/data/37785/000003778512000004/0000037785-12-000004-index.htm', 'https://www.sec.gov/Archives/edgar/data/37785/000119312511041464/0001193125-11-041464-index.htm', 'https://www.sec.gov/Archives/edgar/data/37785/000119312510036348/0001193125-10-036348-index.htm', 'https://www.sec.gov/Archives/edgar/data/37785/000119312509035095/0001193125-09-035095-index.htm', 'https://www.sec.gov/Archives/edgar/data/37785/000119312508059827/0001193125-08-059827-index.htm', 'https://www.sec.gov/Archives/edgar/data/37785/000119312508036999/0001193125-08-036999-index.htm', 'https://www.sec.gov/Archives/edgar/data/37785/000119312507066639/0001193125-07-066639-index.htm', 'https://www.sec.gov/Archives/edgar/data/37785/000119312507039630/0001193125-07-039630-index.htm', 'https://www.sec.gov/Archives/edgar/data/37785/000119312506068846/0001193125-06-068846-index.htm', 'https://www.sec.gov/Archives/edgar/data/37785/000119312506048313/0001193125-06-048313-index.htm', 'https://www.sec.gov/Archives/edgar/data/37785/000119312505049229/0001193125-05-049229-index.htm', 'https://www.sec.gov/Archives/edgar/data/37785/000119312504053471/0001193125-04-053471-index.htm', 'https://www.sec.gov/Archives/edgar/data/37785/000119312504039049/0001193125-04-039049-index.htm', 'https://www.sec.gov/Archives/edgar/data/37785/000093176303000502/0000931763-03-000502-index.htm', 'https://www.sec.gov/Archives/edgar/data/37785/000093066102000678/0000930661-02-000678-index.htm', 'https://www.sec.gov/Archives/edgar/data/37785/000095013101500385/0000950131-01-500385-index.htm', 'https://www.sec.gov/Archives/edgar/data/37785/0000950131-00-002172-index.html', 'https://www.sec.gov/Archives/edgar/data/37785/0000950131-99-001733-index.html', 'https://www.sec.gov/Archives/edgar/data/37785/0000950131-98-001790-index.html', 'https://www.sec.gov/Archives/edgar/data/37785/0000950131-97-002068-index.html', 'https://www.sec.gov/Archives/edgar/data/37785/0000950131-96-001103-index.html', 'https://www.sec.gov/Archives/edgar/data/37785/0000950131-95-000767-index.html', 'https://www.sec.gov/Archives/edgar/data/37785/0000037785-94-000005-index.html', 'https://www.sec.gov/Archives/edgar/data/37785/0000037785-94-000004-index.html']\n",
      "['FMC CORP', 'FMC CORP', 'FMC CORP', 'FMC CORP', 'FMC CORP', 'FMC CORP', 'FMC CORP', 'FMC CORP', 'FMC CORP', 'FMC CORP', 'FMC CORP', 'FMC CORP', 'FMC CORP', 'FMC CORP', 'FMC CORP', 'FMC CORP', 'FMC CORP', 'FMC CORP', 'FMC CORP', 'FMC CORP', 'FMC CORP', 'FMC CORP', 'FMC CORP', 'FMC CORP', 'FMC CORP', 'FMC CORP', 'FMC CORP', 'FMC CORP', 'FMC CORP', 'FMC CORP', 'FMC CORP']\n"
     ]
    }
   ],
   "source": [
    "print(filing_type)\n",
    "print(date)\n",
    "print(weblink)\n",
    "print(company_name)"
   ]
  },
  {
   "cell_type": "code",
   "execution_count": 96,
   "metadata": {},
   "outputs": [
    {
     "name": "stdout",
     "output_type": "stream",
     "text": [
      "31\n",
      "31\n",
      "31\n",
      "31\n"
     ]
    }
   ],
   "source": [
    "print(len(filing_type))\n",
    "print(len(date))\n",
    "print(len(weblink))\n",
    "print(len(company_name))"
   ]
  },
  {
   "cell_type": "code",
   "execution_count": 97,
   "metadata": {},
   "outputs": [
    {
     "data": {
      "text/html": [
       "<div>\n",
       "<style scoped>\n",
       "    .dataframe tbody tr th:only-of-type {\n",
       "        vertical-align: middle;\n",
       "    }\n",
       "\n",
       "    .dataframe tbody tr th {\n",
       "        vertical-align: top;\n",
       "    }\n",
       "\n",
       "    .dataframe thead th {\n",
       "        text-align: right;\n",
       "    }\n",
       "</style>\n",
       "<table border=\"1\" class=\"dataframe\">\n",
       "  <thead>\n",
       "    <tr style=\"text-align: right;\">\n",
       "      <th></th>\n",
       "      <th>Company Name</th>\n",
       "      <th>Filing Type</th>\n",
       "      <th>Date</th>\n",
       "      <th>Weblink</th>\n",
       "    </tr>\n",
       "  </thead>\n",
       "  <tbody>\n",
       "    <tr>\n",
       "      <th>0</th>\n",
       "      <td>FMC CORP</td>\n",
       "      <td>10-K</td>\n",
       "      <td>2019-02-28</td>\n",
       "      <td>https://www.sec.gov/Archives/edgar/data/37785/...</td>\n",
       "    </tr>\n",
       "    <tr>\n",
       "      <th>1</th>\n",
       "      <td>FMC CORP</td>\n",
       "      <td>10-K</td>\n",
       "      <td>2018-02-28</td>\n",
       "      <td>https://www.sec.gov/Archives/edgar/data/37785/...</td>\n",
       "    </tr>\n",
       "    <tr>\n",
       "      <th>2</th>\n",
       "      <td>FMC CORP</td>\n",
       "      <td>10-K</td>\n",
       "      <td>2017-02-28</td>\n",
       "      <td>https://www.sec.gov/Archives/edgar/data/37785/...</td>\n",
       "    </tr>\n",
       "    <tr>\n",
       "      <th>3</th>\n",
       "      <td>FMC CORP</td>\n",
       "      <td>10-K</td>\n",
       "      <td>2016-02-26</td>\n",
       "      <td>https://www.sec.gov/Archives/edgar/data/37785/...</td>\n",
       "    </tr>\n",
       "    <tr>\n",
       "      <th>4</th>\n",
       "      <td>FMC CORP</td>\n",
       "      <td>10-K</td>\n",
       "      <td>2015-02-27</td>\n",
       "      <td>https://www.sec.gov/Archives/edgar/data/37785/...</td>\n",
       "    </tr>\n",
       "    <tr>\n",
       "      <th>5</th>\n",
       "      <td>FMC CORP</td>\n",
       "      <td>10-K</td>\n",
       "      <td>2014-02-18</td>\n",
       "      <td>https://www.sec.gov/Archives/edgar/data/37785/...</td>\n",
       "    </tr>\n",
       "    <tr>\n",
       "      <th>6</th>\n",
       "      <td>FMC CORP</td>\n",
       "      <td>10-K</td>\n",
       "      <td>2013-02-19</td>\n",
       "      <td>https://www.sec.gov/Archives/edgar/data/37785/...</td>\n",
       "    </tr>\n",
       "    <tr>\n",
       "      <th>7</th>\n",
       "      <td>FMC CORP</td>\n",
       "      <td>10-K</td>\n",
       "      <td>2012-02-21</td>\n",
       "      <td>https://www.sec.gov/Archives/edgar/data/37785/...</td>\n",
       "    </tr>\n",
       "    <tr>\n",
       "      <th>8</th>\n",
       "      <td>FMC CORP</td>\n",
       "      <td>10-K</td>\n",
       "      <td>2011-02-22</td>\n",
       "      <td>https://www.sec.gov/Archives/edgar/data/37785/...</td>\n",
       "    </tr>\n",
       "    <tr>\n",
       "      <th>9</th>\n",
       "      <td>FMC CORP</td>\n",
       "      <td>10-K</td>\n",
       "      <td>2010-02-22</td>\n",
       "      <td>https://www.sec.gov/Archives/edgar/data/37785/...</td>\n",
       "    </tr>\n",
       "    <tr>\n",
       "      <th>10</th>\n",
       "      <td>FMC CORP</td>\n",
       "      <td>10-K</td>\n",
       "      <td>2009-02-23</td>\n",
       "      <td>https://www.sec.gov/Archives/edgar/data/37785/...</td>\n",
       "    </tr>\n",
       "    <tr>\n",
       "      <th>11</th>\n",
       "      <td>FMC CORP</td>\n",
       "      <td>10-K/A</td>\n",
       "      <td>2008-03-18</td>\n",
       "      <td>https://www.sec.gov/Archives/edgar/data/37785/...</td>\n",
       "    </tr>\n",
       "    <tr>\n",
       "      <th>12</th>\n",
       "      <td>FMC CORP</td>\n",
       "      <td>10-K</td>\n",
       "      <td>2008-02-25</td>\n",
       "      <td>https://www.sec.gov/Archives/edgar/data/37785/...</td>\n",
       "    </tr>\n",
       "    <tr>\n",
       "      <th>13</th>\n",
       "      <td>FMC CORP</td>\n",
       "      <td>10-K/A</td>\n",
       "      <td>2007-03-28</td>\n",
       "      <td>https://www.sec.gov/Archives/edgar/data/37785/...</td>\n",
       "    </tr>\n",
       "    <tr>\n",
       "      <th>14</th>\n",
       "      <td>FMC CORP</td>\n",
       "      <td>10-K</td>\n",
       "      <td>2007-02-26</td>\n",
       "      <td>https://www.sec.gov/Archives/edgar/data/37785/...</td>\n",
       "    </tr>\n",
       "    <tr>\n",
       "      <th>15</th>\n",
       "      <td>FMC CORP</td>\n",
       "      <td>10-K/A</td>\n",
       "      <td>2006-03-30</td>\n",
       "      <td>https://www.sec.gov/Archives/edgar/data/37785/...</td>\n",
       "    </tr>\n",
       "    <tr>\n",
       "      <th>16</th>\n",
       "      <td>FMC CORP</td>\n",
       "      <td>10-K</td>\n",
       "      <td>2006-03-08</td>\n",
       "      <td>https://www.sec.gov/Archives/edgar/data/37785/...</td>\n",
       "    </tr>\n",
       "    <tr>\n",
       "      <th>17</th>\n",
       "      <td>FMC CORP</td>\n",
       "      <td>10-K</td>\n",
       "      <td>2005-03-14</td>\n",
       "      <td>https://www.sec.gov/Archives/edgar/data/37785/...</td>\n",
       "    </tr>\n",
       "    <tr>\n",
       "      <th>18</th>\n",
       "      <td>FMC CORP</td>\n",
       "      <td>10-K/A</td>\n",
       "      <td>2004-03-30</td>\n",
       "      <td>https://www.sec.gov/Archives/edgar/data/37785/...</td>\n",
       "    </tr>\n",
       "    <tr>\n",
       "      <th>19</th>\n",
       "      <td>FMC CORP</td>\n",
       "      <td>10-K</td>\n",
       "      <td>2004-03-11</td>\n",
       "      <td>https://www.sec.gov/Archives/edgar/data/37785/...</td>\n",
       "    </tr>\n",
       "    <tr>\n",
       "      <th>20</th>\n",
       "      <td>FMC CORP</td>\n",
       "      <td>10-K</td>\n",
       "      <td>2003-03-11</td>\n",
       "      <td>https://www.sec.gov/Archives/edgar/data/37785/...</td>\n",
       "    </tr>\n",
       "    <tr>\n",
       "      <th>21</th>\n",
       "      <td>FMC CORP</td>\n",
       "      <td>10-K</td>\n",
       "      <td>2002-03-11</td>\n",
       "      <td>https://www.sec.gov/Archives/edgar/data/37785/...</td>\n",
       "    </tr>\n",
       "    <tr>\n",
       "      <th>22</th>\n",
       "      <td>FMC CORP</td>\n",
       "      <td>10-K405</td>\n",
       "      <td>2001-03-29</td>\n",
       "      <td>https://www.sec.gov/Archives/edgar/data/37785/...</td>\n",
       "    </tr>\n",
       "    <tr>\n",
       "      <th>23</th>\n",
       "      <td>FMC CORP</td>\n",
       "      <td>10-K405</td>\n",
       "      <td>2000-03-30</td>\n",
       "      <td>https://www.sec.gov/Archives/edgar/data/37785/...</td>\n",
       "    </tr>\n",
       "    <tr>\n",
       "      <th>24</th>\n",
       "      <td>FMC CORP</td>\n",
       "      <td>10-K</td>\n",
       "      <td>1999-03-25</td>\n",
       "      <td>https://www.sec.gov/Archives/edgar/data/37785/...</td>\n",
       "    </tr>\n",
       "    <tr>\n",
       "      <th>25</th>\n",
       "      <td>FMC CORP</td>\n",
       "      <td>10-K</td>\n",
       "      <td>1998-03-18</td>\n",
       "      <td>https://www.sec.gov/Archives/edgar/data/37785/...</td>\n",
       "    </tr>\n",
       "    <tr>\n",
       "      <th>26</th>\n",
       "      <td>FMC CORP</td>\n",
       "      <td>10-K</td>\n",
       "      <td>1997-03-26</td>\n",
       "      <td>https://www.sec.gov/Archives/edgar/data/37785/...</td>\n",
       "    </tr>\n",
       "    <tr>\n",
       "      <th>27</th>\n",
       "      <td>FMC CORP</td>\n",
       "      <td>10-K</td>\n",
       "      <td>1996-03-15</td>\n",
       "      <td>https://www.sec.gov/Archives/edgar/data/37785/...</td>\n",
       "    </tr>\n",
       "    <tr>\n",
       "      <th>28</th>\n",
       "      <td>FMC CORP</td>\n",
       "      <td>10-K405</td>\n",
       "      <td>1995-03-29</td>\n",
       "      <td>https://www.sec.gov/Archives/edgar/data/37785/...</td>\n",
       "    </tr>\n",
       "    <tr>\n",
       "      <th>29</th>\n",
       "      <td>FMC CORP</td>\n",
       "      <td>10-K/A</td>\n",
       "      <td>1994-04-05</td>\n",
       "      <td>https://www.sec.gov/Archives/edgar/data/37785/...</td>\n",
       "    </tr>\n",
       "    <tr>\n",
       "      <th>30</th>\n",
       "      <td>FMC CORP</td>\n",
       "      <td>10-K</td>\n",
       "      <td>1994-03-31</td>\n",
       "      <td>https://www.sec.gov/Archives/edgar/data/37785/...</td>\n",
       "    </tr>\n",
       "  </tbody>\n",
       "</table>\n",
       "</div>"
      ],
      "text/plain": [
       "   Company Name Filing Type        Date  \\\n",
       "0      FMC CORP        10-K  2019-02-28   \n",
       "1      FMC CORP        10-K  2018-02-28   \n",
       "2      FMC CORP        10-K  2017-02-28   \n",
       "3      FMC CORP        10-K  2016-02-26   \n",
       "4      FMC CORP        10-K  2015-02-27   \n",
       "5      FMC CORP        10-K  2014-02-18   \n",
       "6      FMC CORP        10-K  2013-02-19   \n",
       "7      FMC CORP        10-K  2012-02-21   \n",
       "8      FMC CORP        10-K  2011-02-22   \n",
       "9      FMC CORP        10-K  2010-02-22   \n",
       "10     FMC CORP        10-K  2009-02-23   \n",
       "11     FMC CORP      10-K/A  2008-03-18   \n",
       "12     FMC CORP        10-K  2008-02-25   \n",
       "13     FMC CORP      10-K/A  2007-03-28   \n",
       "14     FMC CORP        10-K  2007-02-26   \n",
       "15     FMC CORP      10-K/A  2006-03-30   \n",
       "16     FMC CORP        10-K  2006-03-08   \n",
       "17     FMC CORP        10-K  2005-03-14   \n",
       "18     FMC CORP      10-K/A  2004-03-30   \n",
       "19     FMC CORP        10-K  2004-03-11   \n",
       "20     FMC CORP        10-K  2003-03-11   \n",
       "21     FMC CORP        10-K  2002-03-11   \n",
       "22     FMC CORP     10-K405  2001-03-29   \n",
       "23     FMC CORP     10-K405  2000-03-30   \n",
       "24     FMC CORP        10-K  1999-03-25   \n",
       "25     FMC CORP        10-K  1998-03-18   \n",
       "26     FMC CORP        10-K  1997-03-26   \n",
       "27     FMC CORP        10-K  1996-03-15   \n",
       "28     FMC CORP     10-K405  1995-03-29   \n",
       "29     FMC CORP      10-K/A  1994-04-05   \n",
       "30     FMC CORP        10-K  1994-03-31   \n",
       "\n",
       "                                              Weblink  \n",
       "0   https://www.sec.gov/Archives/edgar/data/37785/...  \n",
       "1   https://www.sec.gov/Archives/edgar/data/37785/...  \n",
       "2   https://www.sec.gov/Archives/edgar/data/37785/...  \n",
       "3   https://www.sec.gov/Archives/edgar/data/37785/...  \n",
       "4   https://www.sec.gov/Archives/edgar/data/37785/...  \n",
       "5   https://www.sec.gov/Archives/edgar/data/37785/...  \n",
       "6   https://www.sec.gov/Archives/edgar/data/37785/...  \n",
       "7   https://www.sec.gov/Archives/edgar/data/37785/...  \n",
       "8   https://www.sec.gov/Archives/edgar/data/37785/...  \n",
       "9   https://www.sec.gov/Archives/edgar/data/37785/...  \n",
       "10  https://www.sec.gov/Archives/edgar/data/37785/...  \n",
       "11  https://www.sec.gov/Archives/edgar/data/37785/...  \n",
       "12  https://www.sec.gov/Archives/edgar/data/37785/...  \n",
       "13  https://www.sec.gov/Archives/edgar/data/37785/...  \n",
       "14  https://www.sec.gov/Archives/edgar/data/37785/...  \n",
       "15  https://www.sec.gov/Archives/edgar/data/37785/...  \n",
       "16  https://www.sec.gov/Archives/edgar/data/37785/...  \n",
       "17  https://www.sec.gov/Archives/edgar/data/37785/...  \n",
       "18  https://www.sec.gov/Archives/edgar/data/37785/...  \n",
       "19  https://www.sec.gov/Archives/edgar/data/37785/...  \n",
       "20  https://www.sec.gov/Archives/edgar/data/37785/...  \n",
       "21  https://www.sec.gov/Archives/edgar/data/37785/...  \n",
       "22  https://www.sec.gov/Archives/edgar/data/37785/...  \n",
       "23  https://www.sec.gov/Archives/edgar/data/37785/...  \n",
       "24  https://www.sec.gov/Archives/edgar/data/37785/...  \n",
       "25  https://www.sec.gov/Archives/edgar/data/37785/...  \n",
       "26  https://www.sec.gov/Archives/edgar/data/37785/...  \n",
       "27  https://www.sec.gov/Archives/edgar/data/37785/...  \n",
       "28  https://www.sec.gov/Archives/edgar/data/37785/...  \n",
       "29  https://www.sec.gov/Archives/edgar/data/37785/...  \n",
       "30  https://www.sec.gov/Archives/edgar/data/37785/...  "
      ]
     },
     "execution_count": 97,
     "metadata": {},
     "output_type": "execute_result"
    }
   ],
   "source": [
    "dict = {'Company Name': company_name, 'Filing Type': filing_type, 'Date': date, 'Weblink': weblink}  \n",
    "df = pd.DataFrame(dict) \n",
    "df  "
   ]
  },
  {
   "cell_type": "code",
   "execution_count": 98,
   "metadata": {},
   "outputs": [],
   "source": [
    "df.to_csv('10K Links.csv')"
   ]
  }
 ],
 "metadata": {
  "kernelspec": {
   "display_name": "Python 3",
   "language": "python",
   "name": "python3"
  },
  "language_info": {
   "codemirror_mode": {
    "name": "ipython",
    "version": 3
   },
   "file_extension": ".py",
   "mimetype": "text/x-python",
   "name": "python",
   "nbconvert_exporter": "python",
   "pygments_lexer": "ipython3",
   "version": "3.6.9"
  }
 },
 "nbformat": 4,
 "nbformat_minor": 4
}
