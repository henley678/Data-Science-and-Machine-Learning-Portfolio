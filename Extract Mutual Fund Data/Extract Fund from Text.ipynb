{
 "cells": [
  {
   "cell_type": "code",
   "execution_count": 21,
   "metadata": {},
   "outputs": [],
   "source": [
    "# Part A"
   ]
  },
  {
   "cell_type": "code",
   "execution_count": 23,
   "metadata": {},
   "outputs": [],
   "source": [
    "import urllib\n",
    "\n",
    "text_cik = []\n",
    "text_link = []\n",
    "text_name = []\n",
    "text_date = []\n",
    "text_type = []\n",
    "\n",
    "input_file = open('/home/jovyan/Desktop/Mutual_Fund_Info_Table_Link.csv', 'r')\n",
    "\n",
    "rows = input_file.readlines()\n",
    "input_file.close()"
   ]
  },
  {
   "cell_type": "code",
   "execution_count": 24,
   "metadata": {},
   "outputs": [
    {
     "data": {
      "text/plain": [
       "['CIK, Name, Date, Information Table Links, File Type, \\n',\n",
       " '0001311981,Adirondack_Funds,2015-11-10,/Archives/edgar/data/1311981/000116204415001166/xslForm13F_X01/infotable.xml,xml,\\n',\n",
       " '0001311981,Adirondack_Funds,2013-05-06,/Archives/edgar/data/1311981/000116204413000513/0001162044-13-000513.txt,text,\\n',\n",
       " '0000813470,ADVANCE_CAPITAL_I_INC,2016-11-01,/Archives/edgar/data/813470/000151597116000610/xslForm13F_X01/infotable.xml,xml,\\n',\n",
       " '0000813470,ADVANCE_CAPITAL_I_INC,2016-08-09,/Archives/edgar/data/813470/000151597116000570/xslForm13F_X01/infotable.xml,xml,\\n',\n",
       " '0000813470,ADVANCE_CAPITAL_I_INC,2016-05-09,/Archives/edgar/data/813470/000151597116000494/xslForm13F_X01/infotable.xml,xml,\\n',\n",
       " '0000813470,ADVANCE_CAPITAL_I_INC,2016-02-08,/Archives/edgar/data/813470/000151597116000435/xslForm13F_X01/infotable.xml,xml,\\n',\n",
       " '0000813470,ADVANCE_CAPITAL_I_INC,2015-10-27,/Archives/edgar/data/813470/000151597115000375/xslForm13F_X01/infotable.xml,xml,\\n',\n",
       " '0000813470,ADVANCE_CAPITAL_I_INC,2015-08-03,/Archives/edgar/data/813470/000151597115000255/xslForm13F_X01/infotable.xml,xml,\\n',\n",
       " '0000813470,ADVANCE_CAPITAL_I_INC,2015-05-07,/Archives/edgar/data/813470/000151597115000139/xslForm13F_X01/infotable.xml,xml,\\n']"
      ]
     },
     "execution_count": 24,
     "metadata": {},
     "output_type": "execute_result"
    }
   ],
   "source": [
    "rows[0:10]"
   ]
  },
  {
   "cell_type": "code",
   "execution_count": 25,
   "metadata": {},
   "outputs": [],
   "source": [
    "from datetime import datetime\n",
    "\n",
    "#Use the following list to store the filtered values.\n",
    "filtered_cik = []\n",
    "filtered_date = []\n",
    "filtered_name = []\n",
    "filtered_link = []\n",
    "filtered_type = []\n",
    "filtered_list = []\n",
    "\n",
    "for i in range(1, len(rows)):\n",
    "    columns = rows[i].split(',')\n",
    "    text_cik.append(columns[0])\n",
    "    text_link.append(columns[3])\n",
    "    text_name.append(columns[1])\n",
    "    text_date.append(columns[2])\n",
    "    text_type.append(columns[4])\n",
    "\n",
    "    if int(columns[2][0:4]) >= 2011 and columns[4] == 'text':\n",
    "        filtered_cik.append(columns[0])\n",
    "        filtered_link.append('https://www.sec.gov' + columns[3])\n",
    "        filtered_name.append(columns[1])\n",
    "        filtered_date.append(columns[2])\n",
    "        filtered_type.append(columns[4])"
   ]
  },
  {
   "cell_type": "code",
   "execution_count": 26,
   "metadata": {},
   "outputs": [
    {
     "name": "stdout",
     "output_type": "stream",
     "text": [
      "['0001311981', '0000813470', '0000813470', '0000813470', '0000813470', '0000813470', '0000813470', '0001432353']\n"
     ]
    }
   ],
   "source": [
    "print(filtered_cik[0:10])"
   ]
  },
  {
   "cell_type": "code",
   "execution_count": 27,
   "metadata": {},
   "outputs": [
    {
     "name": "stdout",
     "output_type": "stream",
     "text": [
      "['https://www.sec.gov/Archives/edgar/data/1311981/000116204413000513/0001162044-13-000513.txt', 'https://www.sec.gov/Archives/edgar/data/813470/000081347013000006/0000813470-13-000006.txt', 'https://www.sec.gov/Archives/edgar/data/813470/000081347013000001/0000813470-13-000001.txt', 'https://www.sec.gov/Archives/edgar/data/813470/000081347012000023/0000813470-12-000023.txt', 'https://www.sec.gov/Archives/edgar/data/813470/000081347012000019/0000813470-12-000019.txt', 'https://www.sec.gov/Archives/edgar/data/813470/000081347012000014/0000813470-12-000014.txt', 'https://www.sec.gov/Archives/edgar/data/813470/000081347012000003/0000813470-12-000003.txt', 'https://www.sec.gov/Archives/edgar/data/1432353/000114420411008428/0001144204-11-008428.txt']\n"
     ]
    }
   ],
   "source": [
    "print(filtered_link)"
   ]
  },
  {
   "cell_type": "code",
   "execution_count": 28,
   "metadata": {},
   "outputs": [
    {
     "name": "stdout",
     "output_type": "stream",
     "text": [
      "['Adirondack_Funds', 'ADVANCE_CAPITAL_I_INC', 'ADVANCE_CAPITAL_I_INC', 'ADVANCE_CAPITAL_I_INC', 'ADVANCE_CAPITAL_I_INC', 'ADVANCE_CAPITAL_I_INC', 'ADVANCE_CAPITAL_I_INC', 'Global_X_Funds']\n"
     ]
    }
   ],
   "source": [
    "print(filtered_name)"
   ]
  },
  {
   "cell_type": "code",
   "execution_count": 29,
   "metadata": {},
   "outputs": [
    {
     "name": "stdout",
     "output_type": "stream",
     "text": [
      "['2013-05-06', '2013-05-01', '2013-02-08', '2012-11-07', '2012-08-09', '2012-05-15', '2012-02-02', '2011-02-14']\n"
     ]
    }
   ],
   "source": [
    "print(filtered_date)"
   ]
  },
  {
   "cell_type": "code",
   "execution_count": 30,
   "metadata": {},
   "outputs": [
    {
     "name": "stdout",
     "output_type": "stream",
     "text": [
      "['text', 'text', 'text', 'text', 'text', 'text', 'text', 'text']\n"
     ]
    }
   ],
   "source": [
    "print(filtered_type)"
   ]
  },
  {
   "cell_type": "code",
   "execution_count": 31,
   "metadata": {},
   "outputs": [],
   "source": [
    "issue_date = []\n",
    "mutual_fund_name = [] \n",
    "name_of_issuer = [] \n",
    "CUSIP = [] # CUSIP number\n",
    "shares = [] # No. of Shares of the company in the Mutual Fund"
   ]
  },
  {
   "cell_type": "code",
   "execution_count": null,
   "metadata": {},
   "outputs": [],
   "source": []
  },
  {
   "cell_type": "code",
   "execution_count": 32,
   "metadata": {},
   "outputs": [],
   "source": [
    "# outside url should be a loop to extract all the 8 links in the url"
   ]
  },
  {
   "cell_type": "code",
   "execution_count": 33,
   "metadata": {},
   "outputs": [],
   "source": [
    "link = filtered_link[0]\n",
    "url = link\n",
    "html = urllib.request.urlopen(url).read().decode('utf-8') #loading each search page"
   ]
  },
  {
   "cell_type": "code",
   "execution_count": 34,
   "metadata": {},
   "outputs": [],
   "source": [
    "file = open('fund1.txt','w') \n",
    "file.write(html) \n",
    "file.close() "
   ]
  },
  {
   "cell_type": "code",
   "execution_count": 35,
   "metadata": {},
   "outputs": [
    {
     "name": "stdout",
     "output_type": "stream",
     "text": [
      "2013-05-06\n",
      "Adirondack_Funds\n"
     ]
    }
   ],
   "source": [
    "issue_date = filtered_date[0]\n",
    "mutual_fund_name = filtered_name[0]\n",
    "print(issue_date)\n",
    "print(mutual_fund_name)"
   ]
  },
  {
   "cell_type": "code",
   "execution_count": 36,
   "metadata": {},
   "outputs": [
    {
     "name": "stdout",
     "output_type": "stream",
     "text": [
      "3295\n"
     ]
    }
   ],
   "source": [
    "index = html.find(\"Name of Issuer\")\n",
    "print(index)\n",
    "html2 = html[index:]"
   ]
  },
  {
   "cell_type": "code",
   "execution_count": 37,
   "metadata": {},
   "outputs": [
    {
     "name": "stdout",
     "output_type": "stream",
     "text": [
      "['issue_date is: 2013-05-06\\n', 'mutual_fund_name: Adirondack_Funds\\n', 'Name of Issuer             Class     CUSIP No.      Market       Quantity  Investment  Other    Voting   Authority\\n']\n"
     ]
    }
   ],
   "source": [
    "file = open('fund1.txt','w') \n",
    "file.writelines('issue_date is:' + ' ' + str(issue_date) + '\\n')\n",
    "file.writelines('mutual_fund_name:' + ' ' + str(mutual_fund_name) + '\\n')\n",
    "file.close() \n",
    "\n",
    "file = open('fund1.txt','a') \n",
    "lines_of_text = html2\n",
    "file.writelines(lines_of_text)\n",
    "\n",
    "file = open('fund1.txt','r') \n",
    "print(file.readlines(100))\n",
    "file.close() "
   ]
  }
 ],
 "metadata": {
  "kernelspec": {
   "display_name": "Python 3",
   "language": "python",
   "name": "python3"
  },
  "language_info": {
   "codemirror_mode": {
    "name": "ipython",
    "version": 3
   },
   "file_extension": ".py",
   "mimetype": "text/x-python",
   "name": "python",
   "nbconvert_exporter": "python",
   "pygments_lexer": "ipython3",
   "version": "3.6.9"
  }
 },
 "nbformat": 4,
 "nbformat_minor": 4
}
