{
 "cells": [
  {
   "cell_type": "code",
   "execution_count": null,
   "metadata": {},
   "outputs": [],
   "source": [
    "# for xml by using BeautifulSoup"
   ]
  },
  {
   "cell_type": "code",
   "execution_count": 169,
   "metadata": {},
   "outputs": [],
   "source": [
    "import urllib\n",
    "\n",
    "text_cik = []\n",
    "text_link = []\n",
    "text_name = []\n",
    "text_date = []\n",
    "text_type = []\n",
    "\n",
    "input_file = open('/home/jovyan/Desktop/Mutual_Fund_Info_Table_Link.csv', 'r')\n",
    "\n",
    "rows = input_file.readlines()\n",
    "input_file.close()"
   ]
  },
  {
   "cell_type": "code",
   "execution_count": 170,
   "metadata": {},
   "outputs": [
    {
     "data": {
      "text/plain": [
       "['CIK, Name, Date, Information Table Links, File Type, \\n',\n",
       " '0001311981,Adirondack_Funds,2015-11-10,/Archives/edgar/data/1311981/000116204415001166/xslForm13F_X01/infotable.xml,xml,\\n',\n",
       " '0001311981,Adirondack_Funds,2013-05-06,/Archives/edgar/data/1311981/000116204413000513/0001162044-13-000513.txt,text,\\n',\n",
       " '0000813470,ADVANCE_CAPITAL_I_INC,2016-11-01,/Archives/edgar/data/813470/000151597116000610/xslForm13F_X01/infotable.xml,xml,\\n',\n",
       " '0000813470,ADVANCE_CAPITAL_I_INC,2016-08-09,/Archives/edgar/data/813470/000151597116000570/xslForm13F_X01/infotable.xml,xml,\\n',\n",
       " '0000813470,ADVANCE_CAPITAL_I_INC,2016-05-09,/Archives/edgar/data/813470/000151597116000494/xslForm13F_X01/infotable.xml,xml,\\n',\n",
       " '0000813470,ADVANCE_CAPITAL_I_INC,2016-02-08,/Archives/edgar/data/813470/000151597116000435/xslForm13F_X01/infotable.xml,xml,\\n',\n",
       " '0000813470,ADVANCE_CAPITAL_I_INC,2015-10-27,/Archives/edgar/data/813470/000151597115000375/xslForm13F_X01/infotable.xml,xml,\\n',\n",
       " '0000813470,ADVANCE_CAPITAL_I_INC,2015-08-03,/Archives/edgar/data/813470/000151597115000255/xslForm13F_X01/infotable.xml,xml,\\n',\n",
       " '0000813470,ADVANCE_CAPITAL_I_INC,2015-05-07,/Archives/edgar/data/813470/000151597115000139/xslForm13F_X01/infotable.xml,xml,\\n']"
      ]
     },
     "execution_count": 170,
     "metadata": {},
     "output_type": "execute_result"
    }
   ],
   "source": [
    "rows[0:10]"
   ]
  },
  {
   "cell_type": "code",
   "execution_count": 171,
   "metadata": {},
   "outputs": [],
   "source": [
    "from datetime import datetime\n",
    "\n",
    "#Use the following list to store the filtered values.\n",
    "filtered_cik_xml = []\n",
    "filtered_date_xml = []\n",
    "filtered_name_xml = []\n",
    "filtered_link_xml = []\n",
    "filtered_type_xml = []\n",
    "\n",
    "for i in range(1, len(rows)):\n",
    "    columns = rows[i].split(',')\n",
    "    text_cik.append(columns[0])\n",
    "    text_link.append(columns[3])\n",
    "    text_name.append(columns[1])\n",
    "    text_date.append(columns[2])\n",
    "    text_type.append(columns[4])\n",
    "\n",
    "    if int(columns[2][0:4]) >= 2011 and columns[4] == 'xml':\n",
    "        filtered_cik_xml.append(columns[0])\n",
    "        filtered_link_xml.append('https://www.sec.gov' + columns[3])\n",
    "        filtered_name_xml.append(columns[1])\n",
    "        filtered_date_xml.append(columns[2])\n",
    "        filtered_type_xml.append(columns[4])"
   ]
  },
  {
   "cell_type": "code",
   "execution_count": 172,
   "metadata": {},
   "outputs": [
    {
     "name": "stdout",
     "output_type": "stream",
     "text": [
      "['0001311981', '0000813470', '0000813470', '0000813470', '0000813470', '0000813470', '0000813470', '0000813470', '0000813470', '0000813470', '0000813470', '0000813470', '0000813470', '0000813470', '0000813470', '0000797136']\n"
     ]
    }
   ],
   "source": [
    "print(filtered_cik_xml)"
   ]
  },
  {
   "cell_type": "code",
   "execution_count": 173,
   "metadata": {},
   "outputs": [
    {
     "name": "stdout",
     "output_type": "stream",
     "text": [
      "['https://www.sec.gov/Archives/edgar/data/1311981/000116204415001166/xslForm13F_X01/infotable.xml', 'https://www.sec.gov/Archives/edgar/data/813470/000151597116000610/xslForm13F_X01/infotable.xml', 'https://www.sec.gov/Archives/edgar/data/813470/000151597116000570/xslForm13F_X01/infotable.xml', 'https://www.sec.gov/Archives/edgar/data/813470/000151597116000494/xslForm13F_X01/infotable.xml', 'https://www.sec.gov/Archives/edgar/data/813470/000151597116000435/xslForm13F_X01/infotable.xml', 'https://www.sec.gov/Archives/edgar/data/813470/000151597115000375/xslForm13F_X01/infotable.xml', 'https://www.sec.gov/Archives/edgar/data/813470/000151597115000255/xslForm13F_X01/infotable.xml', 'https://www.sec.gov/Archives/edgar/data/813470/000151597115000139/xslForm13F_X01/infotable.xml', 'https://www.sec.gov/Archives/edgar/data/813470/000151597115000031/xslForm13F_X01/infotable.xml', 'https://www.sec.gov/Archives/edgar/data/813470/000151597114000479/xslForm13F_X01/infotable.xml', 'https://www.sec.gov/Archives/edgar/data/813470/000151597114000334/xslForm13F_X01/infotable.xml', 'https://www.sec.gov/Archives/edgar/data/813470/000151597114000215/xslForm13F_X01/infotable.xml', 'https://www.sec.gov/Archives/edgar/data/813470/000151597114000035/xslForm13F_X01/infotable.xml', 'https://www.sec.gov/Archives/edgar/data/813470/000134467613000058/xslForm13F_X01/infotable.xml', 'https://www.sec.gov/Archives/edgar/data/813470/000134467613000042/xslForm13F_X01/infotable.xml', 'https://www.sec.gov/Archives/edgar/data/797136/000079713613000035/xslForm13F_X01/fam13f9302013.xml']\n"
     ]
    }
   ],
   "source": [
    "print(filtered_link_xml)"
   ]
  },
  {
   "cell_type": "code",
   "execution_count": 174,
   "metadata": {},
   "outputs": [
    {
     "name": "stdout",
     "output_type": "stream",
     "text": [
      "['Adirondack_Funds', 'ADVANCE_CAPITAL_I_INC', 'ADVANCE_CAPITAL_I_INC', 'ADVANCE_CAPITAL_I_INC', 'ADVANCE_CAPITAL_I_INC', 'ADVANCE_CAPITAL_I_INC', 'ADVANCE_CAPITAL_I_INC', 'ADVANCE_CAPITAL_I_INC', 'ADVANCE_CAPITAL_I_INC', 'ADVANCE_CAPITAL_I_INC', 'ADVANCE_CAPITAL_I_INC', 'ADVANCE_CAPITAL_I_INC', 'ADVANCE_CAPITAL_I_INC', 'ADVANCE_CAPITAL_I_INC', 'ADVANCE_CAPITAL_I_INC', 'FENIMORE_ASSET_MANAGEMENT_TRUST']\n"
     ]
    }
   ],
   "source": [
    "print(filtered_name_xml)"
   ]
  },
  {
   "cell_type": "code",
   "execution_count": 175,
   "metadata": {},
   "outputs": [
    {
     "name": "stdout",
     "output_type": "stream",
     "text": [
      "['2015-11-10', '2016-11-01', '2016-08-09', '2016-05-09', '2016-02-08', '2015-10-27', '2015-08-03', '2015-05-07', '2015-02-05', '2014-11-07', '2014-08-05', '2014-05-15', '2014-02-06', '2013-10-21', '2013-08-13', '2013-10-10']\n"
     ]
    }
   ],
   "source": [
    "print(filtered_date_xml)"
   ]
  },
  {
   "cell_type": "code",
   "execution_count": 176,
   "metadata": {},
   "outputs": [
    {
     "name": "stdout",
     "output_type": "stream",
     "text": [
      "['xml', 'xml', 'xml', 'xml', 'xml', 'xml', 'xml', 'xml', 'xml', 'xml', 'xml', 'xml', 'xml', 'xml', 'xml', 'xml']\n"
     ]
    }
   ],
   "source": [
    "print(filtered_type_xml)"
   ]
  },
  {
   "cell_type": "code",
   "execution_count": 177,
   "metadata": {},
   "outputs": [],
   "source": [
    "import urllib.request\n",
    "import bs4 as bs\n",
    "from bs4 import SoupStrainer"
   ]
  },
  {
   "cell_type": "code",
   "execution_count": 178,
   "metadata": {},
   "outputs": [],
   "source": [
    "import codecs"
   ]
  },
  {
   "cell_type": "code",
   "execution_count": 179,
   "metadata": {},
   "outputs": [],
   "source": [
    "issue_date = []\n",
    "mutual_fund_name = [] \n",
    "name_of_issuer = [] \n",
    "CUSIP = [] # CUSIP number\n",
    "shares = [] # No. of Shares of the company in the Mutual Fund"
   ]
  },
  {
   "cell_type": "code",
   "execution_count": 180,
   "metadata": {},
   "outputs": [
    {
     "data": {
      "text/plain": [
       "'<!DOCTYPE html PUBLIC \"-//W3C//DTD HTML 4.01 Transitional//EN\" \"http://www.w3.org/TR/html4/loose.dtd'"
      ]
     },
     "execution_count": 180,
     "metadata": {},
     "output_type": "execute_result"
    }
   ],
   "source": [
    "html = urllib.request.urlopen(filtered_link_xml[0]).read().decode('utf-8')\n",
    "html[0:100]"
   ]
  },
  {
   "cell_type": "code",
   "execution_count": 181,
   "metadata": {},
   "outputs": [],
   "source": [
    "soup = bs.BeautifulSoup(html, 'html.parser')"
   ]
  },
  {
   "cell_type": "code",
   "execution_count": 182,
   "metadata": {},
   "outputs": [],
   "source": [
    "infotable = soup.find_all(\"table\", summary = \"Form 13F-NT Header Information\")"
   ]
  },
  {
   "cell_type": "code",
   "execution_count": 183,
   "metadata": {},
   "outputs": [
    {
     "data": {
      "text/plain": [
       "1"
      ]
     },
     "execution_count": 183,
     "metadata": {},
     "output_type": "execute_result"
    }
   ],
   "source": [
    "len(infotable)"
   ]
  },
  {
   "cell_type": "code",
   "execution_count": 184,
   "metadata": {},
   "outputs": [
    {
     "data": {
      "text/plain": [
       "105"
      ]
     },
     "execution_count": 184,
     "metadata": {},
     "output_type": "execute_result"
    }
   ],
   "source": [
    "rows = infotable[0].find_all('tr')\n",
    "len(rows)"
   ]
  },
  {
   "cell_type": "code",
   "execution_count": 185,
   "metadata": {},
   "outputs": [
    {
     "data": {
      "text/plain": [
       "<tr>\n",
       "<td class=\"FormTextC\">COLUMN 1</td><td class=\"FormTextC\">COLUMN 2</td><td class=\"FormTextC\">COLUMN 3</td><td class=\"FormTextR\">COLUMN 4</td><td class=\"FormTextC\" colspan=\"3\">COLUMN 5</td><td class=\"FormTextC\">COLUMN 6</td><td class=\"FormTextR\">COLUMN 7</td><td class=\"FormTextC\" colspan=\"3\">COLUMN 8</td>\n",
       "</tr>"
      ]
     },
     "execution_count": 185,
     "metadata": {},
     "output_type": "execute_result"
    }
   ],
   "source": [
    "rows[0]"
   ]
  },
  {
   "cell_type": "code",
   "execution_count": 186,
   "metadata": {},
   "outputs": [
    {
     "data": {
      "text/plain": [
       "<tr>\n",
       "<td class=\"FormText\"></td><td class=\"FormText\"></td><td class=\"FormText\"></td><td class=\"FormTextR\">VALUE</td><td class=\"FormTextR\">SHRS OR</td><td class=\"FormText\">SH/</td><td class=\"FormText\">PUT/</td><td class=\"FormText\">INVESTMENT</td><td class=\"FormTextR\">OTHER</td><td class=\"FormTextC\" colspan=\"3\">VOTING AUTHORITY</td>\n",
       "</tr>"
      ]
     },
     "execution_count": 186,
     "metadata": {},
     "output_type": "execute_result"
    }
   ],
   "source": [
    "rows[1]"
   ]
  },
  {
   "cell_type": "code",
   "execution_count": 187,
   "metadata": {},
   "outputs": [
    {
     "data": {
      "text/plain": [
       "<tr>\n",
       "<td class=\"FormText\">NAME OF ISSUER</td><td class=\"FormText\">TITLE OF CLASS</td><td class=\"FormText\">CUSIP</td><td class=\"FormTextR\">(x$1000)</td><td class=\"FormTextR\">PRN AMT</td><td class=\"FormText\">PRN</td><td class=\"FormText\">CALL</td><td class=\"FormText\">DISCRETION</td><td class=\"FormTextR\">MANAGER</td><td class=\"FormTextR\">SOLE</td><td class=\"FormTextR\">SHARED</td><td class=\"FormTextR\">NONE</td>\n",
       "</tr>"
      ]
     },
     "execution_count": 187,
     "metadata": {},
     "output_type": "execute_result"
    }
   ],
   "source": [
    "rows[2]"
   ]
  },
  {
   "cell_type": "code",
   "execution_count": 188,
   "metadata": {},
   "outputs": [
    {
     "data": {
      "text/plain": [
       "<tr>\n",
       "<td class=\"FormData\">ABBOTT LABS</td><td class=\"FormData\">COM</td><td class=\"FormData\">2824100</td><td class=\"FormDataR\">266</td><td class=\"FormDataR\">6,625</td><td class=\"FormData\">SH</td><td> </td><td class=\"FormData\">SOLE</td><td> </td><td class=\"FormDataR\">0</td><td class=\"FormDataR\">0</td><td class=\"FormDataR\">6,625</td>\n",
       "</tr>"
      ]
     },
     "execution_count": 188,
     "metadata": {},
     "output_type": "execute_result"
    }
   ],
   "source": [
    "rows[3]"
   ]
  },
  {
   "cell_type": "code",
   "execution_count": 189,
   "metadata": {},
   "outputs": [
    {
     "data": {
      "text/plain": [
       "[<td class=\"FormTextC\">COLUMN 1</td>,\n",
       " <td class=\"FormTextC\">COLUMN 2</td>,\n",
       " <td class=\"FormTextC\">COLUMN 3</td>,\n",
       " <td class=\"FormTextR\">COLUMN 4</td>,\n",
       " <td class=\"FormTextC\" colspan=\"3\">COLUMN 5</td>,\n",
       " <td class=\"FormTextC\">COLUMN 6</td>,\n",
       " <td class=\"FormTextR\">COLUMN 7</td>,\n",
       " <td class=\"FormTextC\" colspan=\"3\">COLUMN 8</td>]"
      ]
     },
     "execution_count": 189,
     "metadata": {},
     "output_type": "execute_result"
    }
   ],
   "source": [
    "columns = rows[0].find_all('td')\n",
    "columns"
   ]
  },
  {
   "cell_type": "code",
   "execution_count": 190,
   "metadata": {},
   "outputs": [
    {
     "data": {
      "text/plain": [
       "'ABBOTT LABS'"
      ]
     },
     "execution_count": 190,
     "metadata": {},
     "output_type": "execute_result"
    }
   ],
   "source": [
    "infotable[0].find_all('tr')[3].find_all('td')[0].getText()"
   ]
  },
  {
   "cell_type": "code",
   "execution_count": 191,
   "metadata": {},
   "outputs": [],
   "source": [
    "for row in infotable[0].find_all('tr')[3:]:\n",
    "    columns = row.find_all('td')\n",
    "    mutual_fund_name.append(filtered_name_xml[0])\n",
    "    issue_date.append(filtered_date_xml[0])\n",
    "    name_of_issuer.append(columns[0].getText())\n",
    "    CUSIP.append(columns[2].getText())\n",
    "    shares.append(columns[4].getText())"
   ]
  },
  {
   "cell_type": "code",
   "execution_count": 192,
   "metadata": {},
   "outputs": [
    {
     "data": {
      "text/plain": [
       "['ABBOTT LABS',\n",
       " 'ABBVIE INC',\n",
       " 'ALCOA INC',\n",
       " 'ALLSCRIPTS HEALTHCARE SOLUTN',\n",
       " 'AT&T INC',\n",
       " 'AUTOBYTEL INC',\n",
       " 'AXCELIS TECHNOLOGIES INC',\n",
       " 'AXT INC',\n",
       " 'BARRETT BILL CORP',\n",
       " 'BENCHMARK ELECTRS INC']"
      ]
     },
     "execution_count": 192,
     "metadata": {},
     "output_type": "execute_result"
    }
   ],
   "source": [
    "name_of_issuer[0:10]"
   ]
  },
  {
   "cell_type": "code",
   "execution_count": 193,
   "metadata": {},
   "outputs": [
    {
     "data": {
      "text/plain": [
       "['2824100',\n",
       " '00287Y109',\n",
       " '13817101',\n",
       " '01988P108',\n",
       " '00206R102',\n",
       " '05275N205',\n",
       " '54540109',\n",
       " '00246W103',\n",
       " '06846N104',\n",
       " '08160H101']"
      ]
     },
     "execution_count": 193,
     "metadata": {},
     "output_type": "execute_result"
    }
   ],
   "source": [
    "CUSIP[0:10]"
   ]
  },
  {
   "cell_type": "code",
   "execution_count": 194,
   "metadata": {},
   "outputs": [
    {
     "data": {
      "text/plain": [
       "['6,625',\n",
       " '6,300',\n",
       " '45,800',\n",
       " '349,059',\n",
       " '13,800',\n",
       " '175,170',\n",
       " '1,335,963',\n",
       " '277,040',\n",
       " '57,239',\n",
       " '56,173']"
      ]
     },
     "execution_count": 194,
     "metadata": {},
     "output_type": "execute_result"
    }
   ],
   "source": [
    "shares[0:10]"
   ]
  },
  {
   "cell_type": "code",
   "execution_count": 195,
   "metadata": {},
   "outputs": [
    {
     "name": "stdout",
     "output_type": "stream",
     "text": [
      "https://www.sec.gov/Archives/edgar/data/1311981/000116204415001166/xslForm13F_X01/infotable.xml\n",
      "https://www.sec.gov/Archives/edgar/data/813470/000151597116000610/xslForm13F_X01/infotable.xml\n",
      "https://www.sec.gov/Archives/edgar/data/813470/000151597116000570/xslForm13F_X01/infotable.xml\n",
      "https://www.sec.gov/Archives/edgar/data/813470/000151597116000494/xslForm13F_X01/infotable.xml\n",
      "https://www.sec.gov/Archives/edgar/data/813470/000151597116000435/xslForm13F_X01/infotable.xml\n",
      "https://www.sec.gov/Archives/edgar/data/813470/000151597115000375/xslForm13F_X01/infotable.xml\n",
      "https://www.sec.gov/Archives/edgar/data/813470/000151597115000255/xslForm13F_X01/infotable.xml\n",
      "https://www.sec.gov/Archives/edgar/data/813470/000151597115000139/xslForm13F_X01/infotable.xml\n",
      "https://www.sec.gov/Archives/edgar/data/813470/000151597115000031/xslForm13F_X01/infotable.xml\n",
      "https://www.sec.gov/Archives/edgar/data/813470/000151597114000479/xslForm13F_X01/infotable.xml\n",
      "https://www.sec.gov/Archives/edgar/data/813470/000151597114000334/xslForm13F_X01/infotable.xml\n",
      "https://www.sec.gov/Archives/edgar/data/813470/000151597114000215/xslForm13F_X01/infotable.xml\n",
      "https://www.sec.gov/Archives/edgar/data/813470/000151597114000035/xslForm13F_X01/infotable.xml\n",
      "https://www.sec.gov/Archives/edgar/data/813470/000134467613000058/xslForm13F_X01/infotable.xml\n",
      "https://www.sec.gov/Archives/edgar/data/813470/000134467613000042/xslForm13F_X01/infotable.xml\n",
      "https://www.sec.gov/Archives/edgar/data/797136/000079713613000035/xslForm13F_X01/fam13f9302013.xml\n"
     ]
    }
   ],
   "source": [
    "import time\n",
    "import random\n",
    "for link_number in range(0,len(filtered_link_xml)):\n",
    "    print(filtered_link_xml[link_number])\n",
    "    html = urllib.request.urlopen(filtered_link_xml[link_number]).read().decode('utf-8')\n",
    "    \n",
    "    soup = bs.BeautifulSoup(html)\n",
    "    \n",
    "    infotable = soup.find_all(\"table\", summary = \"Form 13F-NT Header Information\")\n",
    "    \n",
    "    for row in infotable[0].find_all('tr')[3:]:\n",
    "        columns = row.find_all('td')\n",
    "        mutual_fund_name.append(filtered_name_xml[link_number])\n",
    "        issue_date.append(filtered_date_xml[link_number])\n",
    "        name_of_issuer.append(columns[0].getText())\n",
    "        CUSIP.append(columns[2].getText())\n",
    "        shares.append(columns[4].getText())\n",
    "        \n",
    "    time.sleep(random.uniform(5,15))"
   ]
  },
  {
   "cell_type": "code",
   "execution_count": 201,
   "metadata": {},
   "outputs": [
    {
     "data": {
      "text/plain": [
       "2932"
      ]
     },
     "execution_count": 201,
     "metadata": {},
     "output_type": "execute_result"
    }
   ],
   "source": [
    "len(name_of_issuer)"
   ]
  },
  {
   "cell_type": "code",
   "execution_count": 202,
   "metadata": {},
   "outputs": [
    {
     "data": {
      "text/plain": [
       "2932"
      ]
     },
     "execution_count": 202,
     "metadata": {},
     "output_type": "execute_result"
    }
   ],
   "source": [
    "len(CUSIP)"
   ]
  },
  {
   "cell_type": "code",
   "execution_count": 203,
   "metadata": {},
   "outputs": [
    {
     "data": {
      "text/plain": [
       "2932"
      ]
     },
     "execution_count": 203,
     "metadata": {},
     "output_type": "execute_result"
    }
   ],
   "source": [
    "len(shares)"
   ]
  },
  {
   "cell_type": "code",
   "execution_count": 200,
   "metadata": {},
   "outputs": [],
   "source": [
    "Out_File = codecs.open(\"/home/jovyan/Desktop/xmldata.txt\", 'w' , \"utf-8\")\n",
    "\n",
    "Out_File.write(\"Mutual Fund Name\\t Issue_Date\\t Name of Issuer\\t CUSIP\\t Shares\\t \\r\\n\")\n",
    "\n",
    "for x in range(0,len(mutual_fund_name)):\n",
    "    Out_File.write(mutual_fund_name[x]  + '\\t' + issue_date[x] + '\\t' + name_of_issuer[x] + '\\t' + CUSIP[x] + '\\t' + shares[x] + '\\t' '\\r\\n')\n",
    "    \n",
    "Out_File.close()"
   ]
  },
  {
   "cell_type": "code",
   "execution_count": null,
   "metadata": {},
   "outputs": [],
   "source": []
  },
  {
   "cell_type": "code",
   "execution_count": null,
   "metadata": {},
   "outputs": [],
   "source": [
    "# for txt by using pandas"
   ]
  },
  {
   "cell_type": "code",
   "execution_count": 264,
   "metadata": {},
   "outputs": [],
   "source": [
    "import urllib\n",
    "\n",
    "text_cik = []\n",
    "text_link = []\n",
    "text_name = []\n",
    "text_date = []\n",
    "text_type = []\n",
    "\n",
    "input_file = open('/home/jovyan/Desktop/Mutual_Fund_Info_Table_Link.csv', 'r')\n",
    "\n",
    "rows = input_file.readlines()\n",
    "input_file.close()"
   ]
  },
  {
   "cell_type": "code",
   "execution_count": 265,
   "metadata": {},
   "outputs": [
    {
     "data": {
      "text/plain": [
       "['CIK, Name, Date, Information Table Links, File Type, \\n',\n",
       " '0001311981,Adirondack_Funds,2015-11-10,/Archives/edgar/data/1311981/000116204415001166/xslForm13F_X01/infotable.xml,xml,\\n',\n",
       " '0001311981,Adirondack_Funds,2013-05-06,/Archives/edgar/data/1311981/000116204413000513/0001162044-13-000513.txt,text,\\n',\n",
       " '0000813470,ADVANCE_CAPITAL_I_INC,2016-11-01,/Archives/edgar/data/813470/000151597116000610/xslForm13F_X01/infotable.xml,xml,\\n',\n",
       " '0000813470,ADVANCE_CAPITAL_I_INC,2016-08-09,/Archives/edgar/data/813470/000151597116000570/xslForm13F_X01/infotable.xml,xml,\\n',\n",
       " '0000813470,ADVANCE_CAPITAL_I_INC,2016-05-09,/Archives/edgar/data/813470/000151597116000494/xslForm13F_X01/infotable.xml,xml,\\n',\n",
       " '0000813470,ADVANCE_CAPITAL_I_INC,2016-02-08,/Archives/edgar/data/813470/000151597116000435/xslForm13F_X01/infotable.xml,xml,\\n',\n",
       " '0000813470,ADVANCE_CAPITAL_I_INC,2015-10-27,/Archives/edgar/data/813470/000151597115000375/xslForm13F_X01/infotable.xml,xml,\\n',\n",
       " '0000813470,ADVANCE_CAPITAL_I_INC,2015-08-03,/Archives/edgar/data/813470/000151597115000255/xslForm13F_X01/infotable.xml,xml,\\n',\n",
       " '0000813470,ADVANCE_CAPITAL_I_INC,2015-05-07,/Archives/edgar/data/813470/000151597115000139/xslForm13F_X01/infotable.xml,xml,\\n']"
      ]
     },
     "execution_count": 265,
     "metadata": {},
     "output_type": "execute_result"
    }
   ],
   "source": [
    "rows[0:10]"
   ]
  },
  {
   "cell_type": "code",
   "execution_count": 266,
   "metadata": {},
   "outputs": [],
   "source": [
    "from datetime import datetime\n",
    "\n",
    "#Use the following list to store the filtered values.\n",
    "filtered_cik_txt = []\n",
    "filtered_date_txt = []\n",
    "filtered_name_txt = []\n",
    "filtered_link_txt = []\n",
    "filtered_type_txt = []\n",
    "\n",
    "for i in range(1, len(rows)):\n",
    "    columns = rows[i].split(',')\n",
    "    text_cik.append(columns[0])\n",
    "    text_link.append(columns[3])\n",
    "    text_name.append(columns[1])\n",
    "    text_date.append(columns[2])\n",
    "    text_type.append(columns[4])\n",
    "\n",
    "    if int(columns[2][0:4]) >= 2011 and columns[4] == 'text':\n",
    "        filtered_cik_txt.append(columns[0])\n",
    "        filtered_link_txt.append('https://www.sec.gov' + columns[3])\n",
    "        filtered_name_txt.append(columns[1])\n",
    "        filtered_date_txt.append(columns[2])\n",
    "        filtered_type_txt.append(columns[4])"
   ]
  },
  {
   "cell_type": "code",
   "execution_count": 267,
   "metadata": {},
   "outputs": [
    {
     "name": "stdout",
     "output_type": "stream",
     "text": [
      "['0001311981', '0000813470', '0000813470', '0000813470', '0000813470', '0000813470', '0000813470', '0001432353']\n"
     ]
    }
   ],
   "source": [
    "print(filtered_cik_txt)"
   ]
  },
  {
   "cell_type": "code",
   "execution_count": 268,
   "metadata": {},
   "outputs": [
    {
     "name": "stdout",
     "output_type": "stream",
     "text": [
      "['https://www.sec.gov/Archives/edgar/data/1311981/000116204413000513/0001162044-13-000513.txt', 'https://www.sec.gov/Archives/edgar/data/813470/000081347013000006/0000813470-13-000006.txt', 'https://www.sec.gov/Archives/edgar/data/813470/000081347013000001/0000813470-13-000001.txt', 'https://www.sec.gov/Archives/edgar/data/813470/000081347012000023/0000813470-12-000023.txt', 'https://www.sec.gov/Archives/edgar/data/813470/000081347012000019/0000813470-12-000019.txt', 'https://www.sec.gov/Archives/edgar/data/813470/000081347012000014/0000813470-12-000014.txt', 'https://www.sec.gov/Archives/edgar/data/813470/000081347012000003/0000813470-12-000003.txt', 'https://www.sec.gov/Archives/edgar/data/1432353/000114420411008428/0001144204-11-008428.txt']\n"
     ]
    }
   ],
   "source": [
    "print(filtered_link_txt)"
   ]
  },
  {
   "cell_type": "code",
   "execution_count": 269,
   "metadata": {},
   "outputs": [
    {
     "name": "stdout",
     "output_type": "stream",
     "text": [
      "['Adirondack_Funds', 'ADVANCE_CAPITAL_I_INC', 'ADVANCE_CAPITAL_I_INC', 'ADVANCE_CAPITAL_I_INC', 'ADVANCE_CAPITAL_I_INC', 'ADVANCE_CAPITAL_I_INC', 'ADVANCE_CAPITAL_I_INC', 'Global_X_Funds']\n"
     ]
    }
   ],
   "source": [
    "print(filtered_name_txt)"
   ]
  },
  {
   "cell_type": "code",
   "execution_count": 270,
   "metadata": {},
   "outputs": [
    {
     "name": "stdout",
     "output_type": "stream",
     "text": [
      "['2013-05-06', '2013-05-01', '2013-02-08', '2012-11-07', '2012-08-09', '2012-05-15', '2012-02-02', '2011-02-14']\n"
     ]
    }
   ],
   "source": [
    "print(filtered_date_txt)"
   ]
  },
  {
   "cell_type": "code",
   "execution_count": 271,
   "metadata": {},
   "outputs": [
    {
     "name": "stdout",
     "output_type": "stream",
     "text": [
      "['text', 'text', 'text', 'text', 'text', 'text', 'text', 'text']\n"
     ]
    }
   ],
   "source": [
    "print(filtered_type_txt)"
   ]
  },
  {
   "cell_type": "code",
   "execution_count": 236,
   "metadata": {},
   "outputs": [],
   "source": [
    "issue_date = []\n",
    "mutual_fund_name = [] \n",
    "name_of_issuer = [] \n",
    "CUSIP = [] # CUSIP number\n",
    "shares = [] # No. of Shares of the company in the Mutual Fund"
   ]
  },
  {
   "cell_type": "code",
   "execution_count": 339,
   "metadata": {},
   "outputs": [
    {
     "name": "stdout",
     "output_type": "stream",
     "text": [
      "<SEC-DOCUMENT>0001162044-13-000513.txt : 20130506\n",
      "<SEC-HEADER>0001162044-13-000513.hdr.sgml : 20130506\n",
      "<ACCEPTANCE-DATETIME>20130506162025\n",
      "ACCESSION NUMBER:\t\t0001162044-13-000513\n",
      "CONFORMED SUBMISSION TYPE:\t13F-HR\n",
      "PUBLIC DOCUMENT COUNT:\t\t1\n",
      "CONFORMED PERIOD OF REPORT:\t20130331\n",
      "FILED AS OF DATE:\t\t20130506\n",
      "DATE AS OF CHANGE:\t\t20130506\n",
      "EFFECTIVENESS DATE:\t\t20130506\n",
      "\n",
      "FILER:\n",
      "\n",
      "\tCOMPANY DATA:\t\n",
      "\t\tCOMPANY CONFORMED NAME:\t\t\tAdirondack Funds\n",
      "\t\tCENTRAL INDEX KEY:\t\t\t0001311981\n",
      "\t\tIRS NUMBER:\t\t\t\t201993634\n",
      "\t\tSTAT\n"
     ]
    }
   ],
   "source": [
    "link = filtered_link_txt[0]\n",
    "url = link\n",
    "html = urllib.request.urlopen(url).read().decode('utf-8') #loading each search page\n",
    "print(html[0:500])"
   ]
  },
  {
   "cell_type": "code",
   "execution_count": 388,
   "metadata": {},
   "outputs": [],
   "source": [
    "file = open('txtdata.txt','w') \n",
    "\n",
    "issue_date = filtered_link_txt[0]\n",
    "mutual_fund_name = filtered_name_txt[0]\n",
    "\n",
    "start = html.find(\"<TABLE>\")\n",
    "end = html.find(\"</TABLE>\")\n",
    "html3 = html[start:end]\n",
    "\n",
    "file.write(html3) \n",
    "\n",
    "file.close() "
   ]
  },
  {
   "cell_type": "code",
   "execution_count": 396,
   "metadata": {},
   "outputs": [],
   "source": [
    "import pandas as pd\n",
    "df = pd.read_fwf('txtdata.txt')\n",
    "df.columns = ['Name of Issuer','Class','CUSIP', '$','None1','Market Value', 'Shares', 'Investment Discretion', 'Other Managers', 'Voting Sole', 'Authority Shared', 'None2']"
   ]
  },
  {
   "cell_type": "code",
   "execution_count": 397,
   "metadata": {},
   "outputs": [
    {
     "data": {
      "text/html": [
       "<div>\n",
       "<style scoped>\n",
       "    .dataframe tbody tr th:only-of-type {\n",
       "        vertical-align: middle;\n",
       "    }\n",
       "\n",
       "    .dataframe tbody tr th {\n",
       "        vertical-align: top;\n",
       "    }\n",
       "\n",
       "    .dataframe thead th {\n",
       "        text-align: right;\n",
       "    }\n",
       "</style>\n",
       "<table border=\"1\" class=\"dataframe\">\n",
       "  <thead>\n",
       "    <tr style=\"text-align: right;\">\n",
       "      <th></th>\n",
       "      <th>Name of Issuer</th>\n",
       "      <th>Class</th>\n",
       "      <th>CUSIP</th>\n",
       "      <th>$</th>\n",
       "      <th>None1</th>\n",
       "      <th>Market Value</th>\n",
       "      <th>Shares</th>\n",
       "      <th>Investment Discretion</th>\n",
       "      <th>Other Managers</th>\n",
       "      <th>Voting Sole</th>\n",
       "      <th>Authority Shared</th>\n",
       "      <th>None2</th>\n",
       "    </tr>\n",
       "  </thead>\n",
       "  <tbody>\n",
       "    <tr>\n",
       "      <th>0</th>\n",
       "      <td>&lt;CAPTION&gt;</td>\n",
       "      <td>NaN</td>\n",
       "      <td>NaN</td>\n",
       "      <td>NaN</td>\n",
       "      <td>NaN</td>\n",
       "      <td>NaN</td>\n",
       "      <td>NaN</td>\n",
       "      <td>NaN</td>\n",
       "      <td>NaN</td>\n",
       "      <td>NaN</td>\n",
       "      <td>NaN</td>\n",
       "      <td>NaN</td>\n",
       "    </tr>\n",
       "    <tr>\n",
       "      <th>1</th>\n",
       "      <td>Item 1</td>\n",
       "      <td>Item 2</td>\n",
       "      <td>Item 3</td>\n",
       "      <td>NaN</td>\n",
       "      <td>Item 4</td>\n",
       "      <td>NaN</td>\n",
       "      <td>Item 5</td>\n",
       "      <td>Item 6</td>\n",
       "      <td>Item 7</td>\n",
       "      <td>Item 8</td>\n",
       "      <td>NaN</td>\n",
       "      <td>NaN</td>\n",
       "    </tr>\n",
       "    <tr>\n",
       "      <th>2</th>\n",
       "      <td>&lt;S&gt;</td>\n",
       "      <td>&lt;C&gt;</td>\n",
       "      <td>&lt;C&gt;</td>\n",
       "      <td>&lt;C&gt;</td>\n",
       "      <td>NaN</td>\n",
       "      <td>NaN</td>\n",
       "      <td>&lt;C&gt;</td>\n",
       "      <td>&lt;C&gt;</td>\n",
       "      <td>&lt;C&gt;</td>\n",
       "      <td>&lt;C&gt;</td>\n",
       "      <td>&lt;C&gt;</td>\n",
       "      <td>&lt;C&gt;</td>\n",
       "    </tr>\n",
       "    <tr>\n",
       "      <th>3</th>\n",
       "      <td>Name of Issuer</td>\n",
       "      <td>Class</td>\n",
       "      <td>CUSIP No.</td>\n",
       "      <td>NaN</td>\n",
       "      <td>Market</td>\n",
       "      <td>NaN</td>\n",
       "      <td>Quantity</td>\n",
       "      <td>Investment</td>\n",
       "      <td>Other</td>\n",
       "      <td>Voting</td>\n",
       "      <td>Authority</td>\n",
       "      <td>NaN</td>\n",
       "    </tr>\n",
       "    <tr>\n",
       "      <th>4</th>\n",
       "      <td>NaN</td>\n",
       "      <td>NaN</td>\n",
       "      <td>NaN</td>\n",
       "      <td>NaN</td>\n",
       "      <td>Value</td>\n",
       "      <td>NaN</td>\n",
       "      <td>NaN</td>\n",
       "      <td>Discretion</td>\n",
       "      <td>Managers</td>\n",
       "      <td>Sole</td>\n",
       "      <td>Shared</td>\n",
       "      <td>None</td>\n",
       "    </tr>\n",
       "    <tr>\n",
       "      <th>5</th>\n",
       "      <td>ABBOTT LABS</td>\n",
       "      <td>COM</td>\n",
       "      <td>002824100</td>\n",
       "      <td>$</td>\n",
       "      <td>NaN</td>\n",
       "      <td>241</td>\n",
       "      <td>6,825</td>\n",
       "      <td>Sole</td>\n",
       "      <td>None</td>\n",
       "      <td>NaN</td>\n",
       "      <td>NaN</td>\n",
       "      <td>6,825</td>\n",
       "    </tr>\n",
       "    <tr>\n",
       "      <th>6</th>\n",
       "      <td>ABBVIE INC</td>\n",
       "      <td>COM</td>\n",
       "      <td>00287Y109</td>\n",
       "      <td>$</td>\n",
       "      <td>NaN</td>\n",
       "      <td>278</td>\n",
       "      <td>6,825</td>\n",
       "      <td>Sole</td>\n",
       "      <td>None</td>\n",
       "      <td>NaN</td>\n",
       "      <td>NaN</td>\n",
       "      <td>6,825</td>\n",
       "    </tr>\n",
       "    <tr>\n",
       "      <th>7</th>\n",
       "      <td>AERCAP HOLDINGS NV</td>\n",
       "      <td>SHS</td>\n",
       "      <td>N00985106</td>\n",
       "      <td>$</td>\n",
       "      <td>NaN</td>\n",
       "      <td>1,326</td>\n",
       "      <td>85,810</td>\n",
       "      <td>Sole</td>\n",
       "      <td>None</td>\n",
       "      <td>85,810</td>\n",
       "      <td>NaN</td>\n",
       "      <td>NaN</td>\n",
       "    </tr>\n",
       "    <tr>\n",
       "      <th>8</th>\n",
       "      <td>AEROPOSTALE</td>\n",
       "      <td>COM</td>\n",
       "      <td>007865108</td>\n",
       "      <td>$</td>\n",
       "      <td>NaN</td>\n",
       "      <td>925</td>\n",
       "      <td>67,987</td>\n",
       "      <td>Sole</td>\n",
       "      <td>None</td>\n",
       "      <td>67,987</td>\n",
       "      <td>NaN</td>\n",
       "      <td>NaN</td>\n",
       "    </tr>\n",
       "    <tr>\n",
       "      <th>9</th>\n",
       "      <td>ALBANY MOLECULAR RESH INC</td>\n",
       "      <td>COM</td>\n",
       "      <td>012423109</td>\n",
       "      <td>$</td>\n",
       "      <td>NaN</td>\n",
       "      <td>1,199</td>\n",
       "      <td>114,083</td>\n",
       "      <td>Sole</td>\n",
       "      <td>None</td>\n",
       "      <td>114,083</td>\n",
       "      <td>NaN</td>\n",
       "      <td>NaN</td>\n",
       "    </tr>\n",
       "  </tbody>\n",
       "</table>\n",
       "</div>"
      ],
      "text/plain": [
       "              Name of Issuer   Class      CUSIP    $   None1 Market Value  \\\n",
       "0                  <CAPTION>     NaN        NaN  NaN     NaN          NaN   \n",
       "1                     Item 1  Item 2     Item 3  NaN  Item 4          NaN   \n",
       "2                        <S>     <C>        <C>  <C>     NaN          NaN   \n",
       "3             Name of Issuer   Class  CUSIP No.  NaN  Market          NaN   \n",
       "4                        NaN     NaN        NaN  NaN   Value          NaN   \n",
       "5                ABBOTT LABS     COM  002824100    $     NaN          241   \n",
       "6                 ABBVIE INC     COM  00287Y109    $     NaN          278   \n",
       "7         AERCAP HOLDINGS NV     SHS  N00985106    $     NaN        1,326   \n",
       "8                AEROPOSTALE     COM  007865108    $     NaN          925   \n",
       "9  ALBANY MOLECULAR RESH INC     COM  012423109    $     NaN        1,199   \n",
       "\n",
       "     Shares Investment Discretion Other Managers Voting Sole Authority Shared  \\\n",
       "0       NaN                   NaN            NaN         NaN              NaN   \n",
       "1    Item 5                Item 6         Item 7      Item 8              NaN   \n",
       "2       <C>                   <C>            <C>         <C>              <C>   \n",
       "3  Quantity            Investment          Other      Voting        Authority   \n",
       "4       NaN            Discretion       Managers        Sole           Shared   \n",
       "5     6,825                  Sole           None         NaN              NaN   \n",
       "6     6,825                  Sole           None         NaN              NaN   \n",
       "7    85,810                  Sole           None      85,810              NaN   \n",
       "8    67,987                  Sole           None      67,987              NaN   \n",
       "9   114,083                  Sole           None     114,083              NaN   \n",
       "\n",
       "   None2  \n",
       "0    NaN  \n",
       "1    NaN  \n",
       "2    <C>  \n",
       "3    NaN  \n",
       "4   None  \n",
       "5  6,825  \n",
       "6  6,825  \n",
       "7    NaN  \n",
       "8    NaN  \n",
       "9    NaN  "
      ]
     },
     "execution_count": 397,
     "metadata": {},
     "output_type": "execute_result"
    }
   ],
   "source": [
    "df.head(10)"
   ]
  },
  {
   "cell_type": "code",
   "execution_count": 399,
   "metadata": {},
   "outputs": [],
   "source": [
    "df = df.drop(columns=['Class','$','None1','Market Value','Investment Discretion','Other Managers','Voting Sole','Authority Shared','None2'])"
   ]
  },
  {
   "cell_type": "code",
   "execution_count": 400,
   "metadata": {},
   "outputs": [],
   "source": [
    "df.to_csv('txtdata.csv')"
   ]
  },
  {
   "cell_type": "code",
   "execution_count": null,
   "metadata": {},
   "outputs": [],
   "source": []
  },
  {
   "cell_type": "code",
   "execution_count": null,
   "metadata": {},
   "outputs": [],
   "source": []
  },
  {
   "cell_type": "code",
   "execution_count": null,
   "metadata": {},
   "outputs": [],
   "source": []
  }
 ],
 "metadata": {
  "kernelspec": {
   "display_name": "Python 3",
   "language": "python",
   "name": "python3"
  },
  "language_info": {
   "codemirror_mode": {
    "name": "ipython",
    "version": 3
   },
   "file_extension": ".py",
   "mimetype": "text/x-python",
   "name": "python",
   "nbconvert_exporter": "python",
   "pygments_lexer": "ipython3",
   "version": "3.6.9"
  }
 },
 "nbformat": 4,
 "nbformat_minor": 4
}
