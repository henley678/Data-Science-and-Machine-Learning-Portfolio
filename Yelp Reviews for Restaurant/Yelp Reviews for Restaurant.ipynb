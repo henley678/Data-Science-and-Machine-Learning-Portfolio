{
 "cells": [
  {
   "cell_type": "code",
   "execution_count": null,
   "metadata": {},
   "outputs": [],
   "source": [
    "#page1: https://www.yelp.com/biz/j-wata-temaki-bar-san-diego-4\n",
    "\n",
    "#page2: https://www.yelp.com/biz/j-wata-temaki-bar-san-diego-4?start=20\n",
    "        \n",
    "#page3: https://www.yelp.com/biz/j-wata-temaki-bar-san-diego-4?start=40\n",
    ".\n",
    ".\n",
    ".\n",
    "#page13:https://www.yelp.com/biz/j-wata-temaki-bar-san-diego-4?start=240"
   ]
  },
  {
   "cell_type": "code",
   "execution_count": 127,
   "metadata": {},
   "outputs": [],
   "source": [
    "wildcards = []\n",
    "search_urls = []\n",
    "restaurant_name = []\n",
    "reviewer_name = []\n",
    "user_id = []\n",
    "review_text = []\n",
    "number = [0,20,40,60,80,100,120,140,160,180,200,220,240]"
   ]
  },
  {
   "cell_type": "code",
   "execution_count": 128,
   "metadata": {},
   "outputs": [],
   "source": [
    "for i in number:\n",
    "    wildcards.append(str(i))"
   ]
  },
  {
   "cell_type": "code",
   "execution_count": 129,
   "metadata": {},
   "outputs": [],
   "source": [
    "for item in wildcards:  \n",
    "    search_urls.append(\"https://www.yelp.com/biz/j-wata-temaki-bar-san-diego-4?start=\" + item)"
   ]
  },
  {
   "cell_type": "code",
   "execution_count": 130,
   "metadata": {},
   "outputs": [
    {
     "data": {
      "text/plain": [
       "['https://www.yelp.com/biz/j-wata-temaki-bar-san-diego-4?start=0',\n",
       " 'https://www.yelp.com/biz/j-wata-temaki-bar-san-diego-4?start=20',\n",
       " 'https://www.yelp.com/biz/j-wata-temaki-bar-san-diego-4?start=40',\n",
       " 'https://www.yelp.com/biz/j-wata-temaki-bar-san-diego-4?start=60',\n",
       " 'https://www.yelp.com/biz/j-wata-temaki-bar-san-diego-4?start=80',\n",
       " 'https://www.yelp.com/biz/j-wata-temaki-bar-san-diego-4?start=100',\n",
       " 'https://www.yelp.com/biz/j-wata-temaki-bar-san-diego-4?start=120',\n",
       " 'https://www.yelp.com/biz/j-wata-temaki-bar-san-diego-4?start=140',\n",
       " 'https://www.yelp.com/biz/j-wata-temaki-bar-san-diego-4?start=160',\n",
       " 'https://www.yelp.com/biz/j-wata-temaki-bar-san-diego-4?start=180',\n",
       " 'https://www.yelp.com/biz/j-wata-temaki-bar-san-diego-4?start=200',\n",
       " 'https://www.yelp.com/biz/j-wata-temaki-bar-san-diego-4?start=220',\n",
       " 'https://www.yelp.com/biz/j-wata-temaki-bar-san-diego-4?start=240']"
      ]
     },
     "execution_count": 130,
     "metadata": {},
     "output_type": "execute_result"
    }
   ],
   "source": [
    "search_urls"
   ]
  },
  {
   "cell_type": "code",
   "execution_count": 131,
   "metadata": {},
   "outputs": [],
   "source": [
    "link = search_urls[0]\n",
    "url = link\n",
    "html = urllib.request.urlopen(url).read().decode('utf-8') #loading each search page"
   ]
  },
  {
   "cell_type": "code",
   "execution_count": 132,
   "metadata": {},
   "outputs": [],
   "source": [
    "index = html.find(\"Recommended Reviews \")"
   ]
  },
  {
   "cell_type": "code",
   "execution_count": 133,
   "metadata": {},
   "outputs": [
    {
     "data": {
      "text/plain": [
       "'Recommended Reviews <b>for J Wata Temaki Bar</b></h2>\\n\\n                        <div class=\"feed_trust-banner\">\\n            <div class=\"arrange arrange--12 arrange--middle\">\\n                <div class=\"arrange_unit\">\\n                    <span aria-hidden=\"true\" style=\"fill: #c41200; width: 24px; height: 24px;\" class=\"icon icon--24-yelp icon--size-24\">\\n    <svg role=\"img\" class=\"icon_svg\">\\n        <use xlink:href=\"#24x24_yelp\" />\\n    </svg>\\n</span>\\n                </div>\\n                <div class=\"arrange_unit arrange_unit--fill\">\\n                    <span class=\"legal-copy\">\\n                            <b>Your trust is our top concern,</b> so businesses can\\'t pay to alter or remove their reviews. <a href=\"/advertiser_faq\">Learn more.</a>\\n                    </span>\\n                </div>\\n                <div class=\"arrange_unit\">\\n                    <span class=\"dismiss-link u-text-mid js-dismiss-trust-banner\" role=\"button\" aria-label=\"Close\">\\n                        &times;\\n                    </span>\\n                </div>\\n            </div>\\n        </div>\\n\\n                    <div class=\"feed_filters u-space-t1 u-space-b1\">\\n                <div class=\"section-header_block u-space-0\">\\n                    <div class=\"arrange arrange--middle\">\\n                            <div class=\"arrange_unit arrange_unit--fill feed_search\">\\n                                <div class=\"section-header_search u-space-r5\">\\n                                        <form class=\"yform yform--continuous arrange\" name=\"q\" action=\"https://www.yelp.com/biz/j-wata-temaki-bar-san-diego-4\" method=\"GET\">\\n            <label for=\"q\" class=\"offscreen\">Search within the reviews</label>\\n    <div class=\"arrange_unit arrange_unit--fill\">\\n        <input type=\"text\" placeholder=\"Search within the reviews\" name=\"q\" value=\"\" autocomplete=\"on\" >\\n    </div>\\n    <div class=\"arrange_unit\">\\n        <button type=\"submit\" value=\"submit\" class=\"ybtn ybtn--primary ybtn--small\"><span><span aria-hidden=\"true\" style=\"'"
      ]
     },
     "execution_count": 133,
     "metadata": {},
     "output_type": "execute_result"
    }
   ],
   "source": [
    "html2 = html[index:]\n",
    "html2[0:2000]"
   ]
  },
  {
   "cell_type": "code",
   "execution_count": 134,
   "metadata": {},
   "outputs": [
    {
     "data": {
      "text/plain": [
       "13089"
      ]
     },
     "execution_count": 134,
     "metadata": {},
     "output_type": "execute_result"
    }
   ],
   "source": [
    "index = html2.find('data-review-id')\n",
    "index"
   ]
  },
  {
   "cell_type": "code",
   "execution_count": 135,
   "metadata": {},
   "outputs": [
    {
     "data": {
      "text/plain": [
       "'data-review-id=\"0OvoNOSyvnxYg8vV0WmAFw\" data-signup-object=\"user_id:7xZDGAN9_N6cfPgXMhEP1w\">\\n            <div class=\"review-sidebar\">\\n        <div class=\"review-sidebar-content\">\\n                <div '"
      ]
     },
     "execution_count": 135,
     "metadata": {},
     "output_type": "execute_result"
    }
   ],
   "source": [
    "html3 = html2[index:]\n",
    "html3[0:200]"
   ]
  },
  {
   "cell_type": "code",
   "execution_count": 136,
   "metadata": {},
   "outputs": [
    {
     "data": {
      "text/plain": [
       "15"
      ]
     },
     "execution_count": 136,
     "metadata": {},
     "output_type": "execute_result"
    }
   ],
   "source": [
    "start = html3.find(\"=\")+1\n",
    "start"
   ]
  },
  {
   "cell_type": "code",
   "execution_count": 137,
   "metadata": {},
   "outputs": [
    {
     "data": {
      "text/plain": [
       "91"
      ]
     },
     "execution_count": 137,
     "metadata": {},
     "output_type": "execute_result"
    }
   ],
   "source": [
    "end = html3.find(\">\")\n",
    "end"
   ]
  },
  {
   "cell_type": "code",
   "execution_count": 138,
   "metadata": {},
   "outputs": [
    {
     "data": {
      "text/plain": [
       "'\"0OvoNOSyvnxYg8vV0WmAFw\" data-signup-object=\"user_id:7xZDGAN9_N6cfPgXMhEP1w\"'"
      ]
     },
     "execution_count": 138,
     "metadata": {},
     "output_type": "execute_result"
    }
   ],
   "source": [
    "review_id = html3[start:end]\n",
    "review_id"
   ]
  },
  {
   "cell_type": "code",
   "execution_count": null,
   "metadata": {},
   "outputs": [],
   "source": [
    "for link in search_urls[0:1]:\n",
    "    \n",
    "    url = link\n",
    "    html = urllib.request.urlopen(url).read().decode('utf-8') #loading each search page\n",
    "\n",
    "    index = html.find(\"Recommended Reviews \") #going closer to the results table\n",
    "    html2 = html[index:]\n",
    "\n",
    "    while html2.find('data-review-id') != -1: \n",
    "        #We are running a while loop because we want to get everything in the page\n",
    "        \n",
    "        index = html2.find('data-review-id')\n",
    "        remaining = html2[index:]\n",
    "    \n",
    "        start = remaining.find(\":\")\n",
    "        end = remaining.find('>')\n",
    "        user_id.append(remaining[start+1:end])\n",
    "        \n",
    "        remaining = remaining[end:]\n",
    "        index = remaining.find(\"dropdown_user-name\")\n",
    "        remaining = remaining[index:]\n",
    "        \n",
    "        start = remaining.find(\">\")\n",
    "        end = remaining.find(\"<\")\n",
    "        reviewer_name.append(remaining[start+1:end])\n",
    "        \n",
    "        start = remaining.find(\"description:\")\n",
    "        end = remaining.find(\"author\")\n",
    "        review_text.append(remaining[start+12:end-2])"
   ]
  },
  {
   "cell_type": "code",
   "execution_count": 20,
   "metadata": {},
   "outputs": [],
   "source": [
    "import urllib\n",
    "restaurant_name = []\n",
    "reviewer_name = []\n",
    "user_id = []\n",
    "review_text = []"
   ]
  },
  {
   "cell_type": "code",
   "execution_count": 21,
   "metadata": {},
   "outputs": [],
   "source": [
    "url = 'https://www.yelp.com/biz/j-wata-temaki-bar-san-diego-4?start=0'\n",
    "html = urllib.request.urlopen(url).read().decode('utf-8')"
   ]
  },
  {
   "cell_type": "code",
   "execution_count": 22,
   "metadata": {},
   "outputs": [
    {
     "data": {
      "text/plain": [
       "613139"
      ]
     },
     "execution_count": 22,
     "metadata": {},
     "output_type": "execute_result"
    }
   ],
   "source": [
    "index = html.find('anchor\">Next')\n",
    "index"
   ]
  },
  {
   "cell_type": "code",
   "execution_count": 26,
   "metadata": {},
   "outputs": [
    {
     "data": {
      "text/plain": [
       "'r-san-diego-4?start=20\">\\n                        <span class=\"pagination-label responsive-hidden-small pagination-links_anchor\">Next</span>\\n                        <span aria-hidden=\"true\" style=\"width: 24px; height: 24p'"
      ]
     },
     "execution_count": 26,
     "metadata": {},
     "output_type": "execute_result"
    }
   ],
   "source": [
    "html2 = html[index-120:index+100]\n",
    "html2"
   ]
  },
  {
   "cell_type": "code",
   "execution_count": 27,
   "metadata": {},
   "outputs": [
    {
     "data": {
      "text/plain": [
       "20"
      ]
     },
     "execution_count": 27,
     "metadata": {},
     "output_type": "execute_result"
    }
   ],
   "source": [
    "start=html2.find('start=')+6\n",
    "start"
   ]
  },
  {
   "cell_type": "code",
   "execution_count": 28,
   "metadata": {},
   "outputs": [
    {
     "data": {
      "text/plain": [
       "23"
      ]
     },
     "execution_count": 28,
     "metadata": {},
     "output_type": "execute_result"
    }
   ],
   "source": [
    "end = html2.find('>')\n",
    "end"
   ]
  },
  {
   "cell_type": "code",
   "execution_count": 29,
   "metadata": {},
   "outputs": [
    {
     "data": {
      "text/plain": [
       "'20\"'"
      ]
     },
     "execution_count": 29,
     "metadata": {},
     "output_type": "execute_result"
    }
   ],
   "source": [
    "start_number = html2[start:end]\n",
    "start_number"
   ]
  },
  {
   "cell_type": "code",
   "execution_count": null,
   "metadata": {},
   "outputs": [],
   "source": [
    "for item in wildcards[0:13]:  \n",
    "    url = 'https://www.yelp.com/biz/j-wata-temaki-bar-san-diego-4?start=\" + item'\n",
    "    html = urllib.request.urlopen(url).read().decode('utf-8')\n",
    "    \n",
    "    last_page = False\n",
    "    \n",
    "    counter = 0  #only use this if you want to stop at certain page.\n",
    "    \n",
    "    while last_page == False:\n",
    "    \n",
    "        index = html.find(\"Recommended Reviews \") #going closer to the results table\n",
    "        html2 = html[index:]\n",
    "\n",
    "            while html2.find('data-review-id') != -1: \n",
    "        #We are running a while loop because we want to get everything in the page\n",
    "\n",
    "            #We are running a while loop because we want to get everything in the page\n",
    "            start = remaining.find(\":\")\n",
    "            end = remaining.find('>')\n",
    "            user_id.append(remaining[start+1:end])\n",
    "        \n",
    "            remaining = remaining[end:]\n",
    "            index = remaining.find(\"dropdown_user-name\")\n",
    "            remaining = remaining[index:]\n",
    "        \n",
    "            start = remaining.find(\">\")\n",
    "            end = remaining.find(\"<\")\n",
    "            reviewer_name.append(remaining[start+1:end])\n",
    "        \n",
    "            start = remaining.find(\"description:\")\n",
    "            end = remaining.find(\"author\")\n",
    "            review_text.append(remaining[start+12:end-2])\n",
    "        #SAME CODE AS BEFORE ENDS\n",
    "        \n",
    "        index = html.find('anchor\">Next')\n",
    "         \n",
    "        if index == -1:\n",
    "            last_page = True\n",
    "        \n",
    "        else:\n",
    "        \n",
    "            html2 = html[index-120:index+100]\n",
    "            start=html2.find('start=')+6\n",
    "            end = html2.find('>')\n",
    "            start_number = html2[start:end]\n",
    "\n",
    "            url = 'https://www.yelp.com/biz/j-wata-temaki-bar-san-diego-4?start=\" + item'\n",
    "\n",
    "            html = urllib.request.urlopen(url).read().decode('utf-8')\n",
    "        \n",
    "        counter += 1\n",
    "        if counter == 13:\n",
    "            last_page = True    #only use this to limit the number of pages to go through.  You can drop this later."
   ]
  },
  {
   "cell_type": "code",
   "execution_count": null,
   "metadata": {},
   "outputs": [],
   "source": [
    "# Output to file"
   ]
  },
  {
   "cell_type": "raw",
   "metadata": {},
   "source": [
    "Output_File = open(\"/home/jovyan/Desktop/group1/JWT.txt\", \"w\")\n",
    "\n",
    "Output_File.write(\"reviewer_name\\trestaurant_name\\n\")\n",
    "\n",
    "for x in range(0, len(reviewer_name)):\n",
    "    Output_File.write(reviewer_name[x] + '\\t' + review_text[x] + '\\t\\n')\n",
    "\n",
    "Output_File.close()"
   ]
  },
  {
   "cell_type": "code",
   "execution_count": null,
   "metadata": {},
   "outputs": [],
   "source": [
    "Input_File = open(\"/home/jovyan/Desktop/JWT.txt\", \"r\")\n",
    "\n",
    "Output_File2 = open(\"/home/jovyan/Desktop/JWT_Sorted.txt\", \"w\")\n",
    "\n",
    "listLines = []\n",
    "\n",
    "for line in Input_File:\n",
    "\n",
    "    if line in listLines:\n",
    "        continue\n",
    "# this portion of the code tells us the for loop that if a line is already there in the list, skip the line or else add it to the list\n",
    "    else:\n",
    "        Output_File2.write(line)\n",
    "        listLines.append(line)\n",
    "\n",
    "Output_File2.close()\n",
    "\n",
    "Input_File.close()"
   ]
  }
 ],
 "metadata": {
  "kernelspec": {
   "display_name": "Python 3",
   "language": "python",
   "name": "python3"
  },
  "language_info": {
   "codemirror_mode": {
    "name": "ipython",
    "version": 3
   },
   "file_extension": ".py",
   "mimetype": "text/x-python",
   "name": "python",
   "nbconvert_exporter": "python",
   "pygments_lexer": "ipython3",
   "version": "3.6.9"
  }
 },
 "nbformat": 4,
 "nbformat_minor": 4
}
