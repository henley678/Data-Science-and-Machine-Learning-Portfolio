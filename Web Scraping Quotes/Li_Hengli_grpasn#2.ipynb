{
 "cells": [
  {
   "cell_type": "code",
   "execution_count": 100,
   "metadata": {},
   "outputs": [
    {
     "name": "stdout",
     "output_type": "stream",
     "text": [
      "Collecting selenium\n",
      "  Using cached https://files.pythonhosted.org/packages/80/d6/4294f0b4bce4de0abf13e17190289f9d0613b0a44e5dd6a7f5ca98459853/selenium-3.141.0-py2.py3-none-any.whl\n",
      "Collecting urllib3 (from selenium)\n",
      "  Using cached https://files.pythonhosted.org/packages/e6/60/247f23a7121ae632d62811ba7f273d0e58972d75e58a94d329d51550a47d/urllib3-1.25.3-py2.py3-none-any.whl\n",
      "Installing collected packages: urllib3, selenium\n",
      "Successfully installed selenium-3.141.0 urllib3-1.25.3\n",
      "Note: you may need to restart the kernel to use updated packages.\n"
     ]
    }
   ],
   "source": [
    "pip install selenium"
   ]
  },
  {
   "cell_type": "code",
   "execution_count": 13,
   "metadata": {},
   "outputs": [
    {
     "name": "stdout",
     "output_type": "stream",
     "text": [
      "['http://quotes.toscrape.com/js/page/1', 'http://quotes.toscrape.com/js/page/2', 'http://quotes.toscrape.com/js/page/3']\n"
     ]
    }
   ],
   "source": [
    "num_pages = 3\n",
    "urls = []\n",
    "\n",
    "for i in range(1, num_pages+1):\n",
    "    urls.append('http://quotes.toscrape.com/js/page/'+str(i*1))\n",
    "\n",
    "print(urls) # Contains the url of first three pages of lamp's at Target.com"
   ]
  },
  {
   "cell_type": "code",
   "execution_count": 14,
   "metadata": {},
   "outputs": [],
   "source": [
    "from bs4 import BeautifulSoup as bs\n",
    "from selenium import webdriver\n",
    "from selenium.webdriver.chrome.options import Options\n",
    "chrome_options = Options()\n",
    "chrome_options.add_argument('--headless')\n",
    "chrome_options.add_argument('--no-sandbox')\n",
    "chrome_options.add_argument('--disable-dev-shm-usage')\n",
    "driver = webdriver.Chrome('/usr/local/bin/chromedriver', options = chrome_options)"
   ]
  },
  {
   "cell_type": "code",
   "execution_count": 15,
   "metadata": {},
   "outputs": [],
   "source": [
    "from bs4 import BeautifulSoup as bs\n",
    "from selenium import webdriver\n",
    "from selenium.webdriver.chrome.options import Options\n",
    "chrome_options = Options()\n",
    "chrome_options.add_argument('--headless')\n",
    "chrome_options.add_argument('--no-sandbox')\n",
    "chrome_options.add_argument('--disable-dev-shm-usage')\n",
    "driver = webdriver.Chrome('/usr/local/bin/chromedriver', options = chrome_options)\n",
    "\n",
    "\n",
    "driver.get('http://quotes.toscrape.com/js/page/1')\n",
    "assert 'Quotes' in driver.title # Wait for the page to load\n",
    "\n",
    "html = driver.page_source # Get the html of the page\n",
    "driver.quit() # Close the browser\n"
   ]
  },
  {
   "cell_type": "code",
   "execution_count": 36,
   "metadata": {},
   "outputs": [],
   "source": [
    "from bs4 import BeautifulSoup as bs\n",
    "from selenium import webdriver\n",
    "\n",
    "import time\n",
    "import random\n",
    "from bs4 import BeautifulSoup as bs\n",
    "from selenium import webdriver\n",
    "from selenium.webdriver.chrome.options import Options\n",
    "chrome_options = Options()\n",
    "chrome_options.add_argument('--headless')\n",
    "chrome_options.add_argument('--no-sandbox')\n",
    "chrome_options.add_argument('--disable-dev-shm-usage')\n",
    "driver = webdriver.Chrome('/usr/local/bin/chromedriver', options = chrome_options)\n",
    "\n",
    "\n",
    "quote_quoter = []\n",
    "quote_text = []\n",
    "\n",
    "for url in urls:\n",
    "    #driver = webdriver.Chrome(path)\n",
    "    driver = webdriver.Chrome('/usr/local/bin/chromedriver', options = chrome_options)\n",
    "    driver.get(url) # Start the browser and open 'url'\n",
    "    \n",
    "    assert 'Quotes' in driver.title # Wait for the page to load\n",
    "    time.sleep(random.uniform(3,7))\n",
    "    # time.sleep(5)\n",
    "    html = driver.page_source # Get the html of the page\n",
    "\n",
    "    soup = bs(html, 'html.parser')\n",
    "    for html_class in soup.find_all('div', class_ = \"quote\"):\n",
    "        text = html_class.find('span',class_ = 'text').getText()[1:-1]\n",
    "        quoter = html_class.find('small', class_ = 'author').getText()\n",
    "        quote_text.append(text)\n",
    "        quote_quoter.append(quoter)"
   ]
  },
  {
   "cell_type": "code",
   "execution_count": 37,
   "metadata": {},
   "outputs": [
    {
     "data": {
      "text/plain": [
       "'“One good thing about music, when it hits you, you feel no pain.”'"
      ]
     },
     "execution_count": 37,
     "metadata": {},
     "output_type": "execute_result"
    }
   ],
   "source": [
    "html_class.find('span',class_ = 'text').getText()"
   ]
  },
  {
   "cell_type": "code",
   "execution_count": 38,
   "metadata": {},
   "outputs": [
    {
     "data": {
      "text/plain": [
       "30"
      ]
     },
     "execution_count": 38,
     "metadata": {},
     "output_type": "execute_result"
    }
   ],
   "source": [
    "len(quote_quoter)\n",
    "len(quote_text)"
   ]
  },
  {
   "cell_type": "code",
   "execution_count": 39,
   "metadata": {},
   "outputs": [
    {
     "data": {
      "text/html": [
       "<div>\n",
       "<style scoped>\n",
       "    .dataframe tbody tr th:only-of-type {\n",
       "        vertical-align: middle;\n",
       "    }\n",
       "\n",
       "    .dataframe tbody tr th {\n",
       "        vertical-align: top;\n",
       "    }\n",
       "\n",
       "    .dataframe thead th {\n",
       "        text-align: right;\n",
       "    }\n",
       "</style>\n",
       "<table border=\"1\" class=\"dataframe\">\n",
       "  <thead>\n",
       "    <tr style=\"text-align: right;\">\n",
       "      <th></th>\n",
       "      <th>Quoter</th>\n",
       "      <th>Quote Text</th>\n",
       "    </tr>\n",
       "  </thead>\n",
       "  <tbody>\n",
       "    <tr>\n",
       "      <th>0</th>\n",
       "      <td>Albert Einstein</td>\n",
       "      <td>The world as we have created it is a process o...</td>\n",
       "    </tr>\n",
       "    <tr>\n",
       "      <th>1</th>\n",
       "      <td>J.K. Rowling</td>\n",
       "      <td>It is our choices, Harry, that show what we tr...</td>\n",
       "    </tr>\n",
       "    <tr>\n",
       "      <th>2</th>\n",
       "      <td>Albert Einstein</td>\n",
       "      <td>There are only two ways to live your life. One...</td>\n",
       "    </tr>\n",
       "    <tr>\n",
       "      <th>3</th>\n",
       "      <td>Jane Austen</td>\n",
       "      <td>The person, be it gentleman or lady, who has n...</td>\n",
       "    </tr>\n",
       "    <tr>\n",
       "      <th>4</th>\n",
       "      <td>Marilyn Monroe</td>\n",
       "      <td>Imperfection is beauty, madness is genius and ...</td>\n",
       "    </tr>\n",
       "    <tr>\n",
       "      <th>5</th>\n",
       "      <td>Albert Einstein</td>\n",
       "      <td>Try not to become a man of success. Rather bec...</td>\n",
       "    </tr>\n",
       "    <tr>\n",
       "      <th>6</th>\n",
       "      <td>André Gide</td>\n",
       "      <td>It is better to be hated for what you are than...</td>\n",
       "    </tr>\n",
       "    <tr>\n",
       "      <th>7</th>\n",
       "      <td>Thomas A. Edison</td>\n",
       "      <td>I have not failed. I've just found 10,000 ways...</td>\n",
       "    </tr>\n",
       "    <tr>\n",
       "      <th>8</th>\n",
       "      <td>Eleanor Roosevelt</td>\n",
       "      <td>A woman is like a tea bag; you never know how ...</td>\n",
       "    </tr>\n",
       "    <tr>\n",
       "      <th>9</th>\n",
       "      <td>Steve Martin</td>\n",
       "      <td>A day without sunshine is like, you know, night.</td>\n",
       "    </tr>\n",
       "    <tr>\n",
       "      <th>10</th>\n",
       "      <td>Marilyn Monroe</td>\n",
       "      <td>This life is what you make it. No matter what,...</td>\n",
       "    </tr>\n",
       "    <tr>\n",
       "      <th>11</th>\n",
       "      <td>J.K. Rowling</td>\n",
       "      <td>It takes a great deal of bravery to stand up t...</td>\n",
       "    </tr>\n",
       "    <tr>\n",
       "      <th>12</th>\n",
       "      <td>Albert Einstein</td>\n",
       "      <td>If you can't explain it to a six year old, you...</td>\n",
       "    </tr>\n",
       "    <tr>\n",
       "      <th>13</th>\n",
       "      <td>Bob Marley</td>\n",
       "      <td>You may not be her first, her last, or her onl...</td>\n",
       "    </tr>\n",
       "    <tr>\n",
       "      <th>14</th>\n",
       "      <td>Dr. Seuss</td>\n",
       "      <td>I like nonsense, it wakes up the brain cells. ...</td>\n",
       "    </tr>\n",
       "    <tr>\n",
       "      <th>15</th>\n",
       "      <td>Douglas Adams</td>\n",
       "      <td>I may not have gone where I intended to go, bu...</td>\n",
       "    </tr>\n",
       "    <tr>\n",
       "      <th>16</th>\n",
       "      <td>Elie Wiesel</td>\n",
       "      <td>The opposite of love is not hate, it's indiffe...</td>\n",
       "    </tr>\n",
       "    <tr>\n",
       "      <th>17</th>\n",
       "      <td>Friedrich Nietzsche</td>\n",
       "      <td>It is not a lack of love, but a lack of friend...</td>\n",
       "    </tr>\n",
       "    <tr>\n",
       "      <th>18</th>\n",
       "      <td>Mark Twain</td>\n",
       "      <td>Good friends, good books, and a sleepy conscie...</td>\n",
       "    </tr>\n",
       "    <tr>\n",
       "      <th>19</th>\n",
       "      <td>Allen Saunders</td>\n",
       "      <td>Life is what happens to us while we are making...</td>\n",
       "    </tr>\n",
       "    <tr>\n",
       "      <th>20</th>\n",
       "      <td>Pablo Neruda</td>\n",
       "      <td>I love you without knowing how, or when, or fr...</td>\n",
       "    </tr>\n",
       "    <tr>\n",
       "      <th>21</th>\n",
       "      <td>Ralph Waldo Emerson</td>\n",
       "      <td>For every minute you are angry you lose sixty ...</td>\n",
       "    </tr>\n",
       "    <tr>\n",
       "      <th>22</th>\n",
       "      <td>Mother Teresa</td>\n",
       "      <td>If you judge people, you have no time to love ...</td>\n",
       "    </tr>\n",
       "    <tr>\n",
       "      <th>23</th>\n",
       "      <td>Garrison Keillor</td>\n",
       "      <td>Anyone who thinks sitting in church can make y...</td>\n",
       "    </tr>\n",
       "    <tr>\n",
       "      <th>24</th>\n",
       "      <td>Jim Henson</td>\n",
       "      <td>Beauty is in the eye of the beholder and it ma...</td>\n",
       "    </tr>\n",
       "    <tr>\n",
       "      <th>25</th>\n",
       "      <td>Dr. Seuss</td>\n",
       "      <td>Today you are You, that is truer than true. Th...</td>\n",
       "    </tr>\n",
       "    <tr>\n",
       "      <th>26</th>\n",
       "      <td>Albert Einstein</td>\n",
       "      <td>If you want your children to be intelligent, r...</td>\n",
       "    </tr>\n",
       "    <tr>\n",
       "      <th>27</th>\n",
       "      <td>J.K. Rowling</td>\n",
       "      <td>It is impossible to live without failing at so...</td>\n",
       "    </tr>\n",
       "    <tr>\n",
       "      <th>28</th>\n",
       "      <td>Albert Einstein</td>\n",
       "      <td>Logic will get you from A to Z; imagination wi...</td>\n",
       "    </tr>\n",
       "    <tr>\n",
       "      <th>29</th>\n",
       "      <td>Bob Marley</td>\n",
       "      <td>One good thing about music, when it hits you, ...</td>\n",
       "    </tr>\n",
       "  </tbody>\n",
       "</table>\n",
       "</div>"
      ],
      "text/plain": [
       "                 Quoter                                         Quote Text\n",
       "0       Albert Einstein  The world as we have created it is a process o...\n",
       "1          J.K. Rowling  It is our choices, Harry, that show what we tr...\n",
       "2       Albert Einstein  There are only two ways to live your life. One...\n",
       "3           Jane Austen  The person, be it gentleman or lady, who has n...\n",
       "4        Marilyn Monroe  Imperfection is beauty, madness is genius and ...\n",
       "5       Albert Einstein  Try not to become a man of success. Rather bec...\n",
       "6            André Gide  It is better to be hated for what you are than...\n",
       "7      Thomas A. Edison  I have not failed. I've just found 10,000 ways...\n",
       "8     Eleanor Roosevelt  A woman is like a tea bag; you never know how ...\n",
       "9          Steve Martin   A day without sunshine is like, you know, night.\n",
       "10       Marilyn Monroe  This life is what you make it. No matter what,...\n",
       "11         J.K. Rowling  It takes a great deal of bravery to stand up t...\n",
       "12      Albert Einstein  If you can't explain it to a six year old, you...\n",
       "13           Bob Marley  You may not be her first, her last, or her onl...\n",
       "14            Dr. Seuss  I like nonsense, it wakes up the brain cells. ...\n",
       "15        Douglas Adams  I may not have gone where I intended to go, bu...\n",
       "16          Elie Wiesel  The opposite of love is not hate, it's indiffe...\n",
       "17  Friedrich Nietzsche  It is not a lack of love, but a lack of friend...\n",
       "18           Mark Twain  Good friends, good books, and a sleepy conscie...\n",
       "19       Allen Saunders  Life is what happens to us while we are making...\n",
       "20         Pablo Neruda  I love you without knowing how, or when, or fr...\n",
       "21  Ralph Waldo Emerson  For every minute you are angry you lose sixty ...\n",
       "22        Mother Teresa  If you judge people, you have no time to love ...\n",
       "23     Garrison Keillor  Anyone who thinks sitting in church can make y...\n",
       "24           Jim Henson  Beauty is in the eye of the beholder and it ma...\n",
       "25            Dr. Seuss  Today you are You, that is truer than true. Th...\n",
       "26      Albert Einstein  If you want your children to be intelligent, r...\n",
       "27         J.K. Rowling  It is impossible to live without failing at so...\n",
       "28      Albert Einstein  Logic will get you from A to Z; imagination wi...\n",
       "29           Bob Marley  One good thing about music, when it hits you, ..."
      ]
     },
     "execution_count": 39,
     "metadata": {},
     "output_type": "execute_result"
    }
   ],
   "source": [
    "dict = {'Quoter': quote_quoter, 'Quote Text': quote_text}  \n",
    "df = pd.DataFrame(dict) \n",
    "df  "
   ]
  },
  {
   "cell_type": "code",
   "execution_count": 40,
   "metadata": {},
   "outputs": [],
   "source": [
    "df.to_csv('Quotes.csv')"
   ]
  }
 ],
 "metadata": {
  "kernelspec": {
   "display_name": "Python 3",
   "language": "python",
   "name": "python3"
  },
  "language_info": {
   "codemirror_mode": {
    "name": "ipython",
    "version": 3
   },
   "file_extension": ".py",
   "mimetype": "text/x-python",
   "name": "python",
   "nbconvert_exporter": "python",
   "pygments_lexer": "ipython3",
   "version": "3.6.9"
  }
 },
 "nbformat": 4,
 "nbformat_minor": 4
}
